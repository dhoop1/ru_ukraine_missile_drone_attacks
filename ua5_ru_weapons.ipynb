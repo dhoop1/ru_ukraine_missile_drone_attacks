{
  "cells": [
    {
      "cell_type": "markdown",
      "metadata": {
        "id": "k_JCupk2QDjP"
      },
      "source": [
        "## Access Kaggle API and upload .csv datasets into CoLab"
      ]
    },
    {
      "cell_type": "code",
      "execution_count": 67,
      "metadata": {
        "colab": {
          "base_uri": "https://localhost:8080/"
        },
        "id": "BnAupXoFQs9F",
        "outputId": "9dfdd249-8f46-4847-ff2c-85fd968388b4"
      },
      "outputs": [
        {
          "name": "stdout",
          "output_type": "stream",
          "text": [
            "Dataset URL: https://www.kaggle.com/datasets/piterfm/massive-missile-attacks-on-ukraine"
          ]
        },
        {
          "name": "stderr",
          "output_type": "stream",
          "text": [
            "\n",
            "  0%|          | 0.00/74.3k [00:00<?, ?B/s]\n",
            "100%|██████████| 74.3k/74.3k [00:00<00:00, 3.52MB/s]\n"
          ]
        },
        {
          "name": "stdout",
          "output_type": "stream",
          "text": [
            "\n",
            "License(s): CC-BY-NC-SA-4.0\n",
            "Downloading massive-missile-attacks-on-ukraine.zip to c:\\Users\\dihoo\\.vscode\\ru_ukraine_missile_drone_attacks\n",
            "\n"
          ]
        }
      ],
      "source": [
        "#@title ### Access Kaggle datasets for Ukraine missile/UAV attacks\n",
        "\n",
        "!pip install kaggle --quiet\n",
        "!kaggle datasets download piterfm/massive-missile-attacks-on-ukraine --force"
      ]
    },
    {
      "cell_type": "code",
      "execution_count": 68,
      "metadata": {},
      "outputs": [],
      "source": [
        "!pip install zipfile36 --quiet"
      ]
    },
    {
      "cell_type": "code",
      "execution_count": 69,
      "metadata": {
        "colab": {
          "base_uri": "https://localhost:8080/"
        },
        "id": "fNI-Xib2Q1qB",
        "outputId": "d4070fc2-c04b-4876-bcc2-970064c92765"
      },
      "outputs": [],
      "source": [
        "#@title ### Unzip datasets (into .csv files)\n",
        "\n",
        "import zipfile36 as zipfile\n",
        "\n",
        "with zipfile.ZipFile(\"massive-missile-attacks-on-ukraine.zip\", \"r\") as file:\n",
        "    file.extractall(\"attacks\")"
      ]
    },
    {
      "cell_type": "markdown",
      "metadata": {
        "id": "zt8w2hPhRCfo"
      },
      "source": [
        "## Data Preparation"
      ]
    },
    {
      "cell_type": "code",
      "execution_count": 70,
      "metadata": {},
      "outputs": [],
      "source": [
        "#@title ### Install modules\n",
        "\n",
        "!pip install pandas numpy tabulate --quiet"
      ]
    },
    {
      "cell_type": "code",
      "execution_count": 71,
      "metadata": {
        "id": "_sn_22I9RATb"
      },
      "outputs": [],
      "source": [
        "#@title ### Convert .csv files to DataFrames\n",
        "\n",
        "import pandas as pd\n",
        "import numpy as np\n",
        "from tabulate import tabulate\n",
        "\n",
        "pd.options.display.max_rows = 10\n",
        "pd.options.display.float_format = \"{:,.1f}\".format\n",
        "\n",
        "# Read 'missile_attacks_daily' csv and create attacks_df\n",
        "attacks_df_orig = pd.read_csv(\"attacks/missile_attacks_daily.csv\", header=0) # keep as original for comparison/reference\n",
        "attacks_df = attacks_df_orig.copy() # create as working df\n",
        "\n",
        "# Fillna() in attacks_df and set float dtypes\n",
        "numeric_cols = attacks_df.select_dtypes(include=np.number)\n",
        "attacks_df[numeric_cols.columns] = numeric_cols.fillna(0) # fill NaN with 0 for numeric cols\n",
        "attacks_df[numeric_cols.columns] = attacks_df[numeric_cols.columns].astype('float') # set numeric cols to float dtypes\n",
        "non_numeric_cols = attacks_df.select_dtypes(exclude=np.number)\n",
        "attacks_df[non_numeric_cols.columns] = non_numeric_cols.fillna(\"\") # fill NaN with \"\" for non-numeric cols\n",
        "\n",
        "# Read 'missiles_and_uav' csv and create details0_df\n",
        "details0_df_orig = pd.read_csv(\"attacks/missiles_and_uav.csv\", header=0) # keep as original for comparison/reference\n",
        "details0_df = details0_df_orig.copy()\n",
        "\n",
        "model_list = attacks_df[\"model\"].unique()\n",
        "model_count = attacks_df[\"model\"].value_counts()"
      ]
    },
    {
      "cell_type": "markdown",
      "metadata": {
        "id": "PqpAr2LdO83S"
      },
      "source": [
        "### Set-up Google Sheets Access"
      ]
    },
    {
      "cell_type": "code",
      "execution_count": 72,
      "metadata": {},
      "outputs": [],
      "source": [
        "!pip install gspread --quiet"
      ]
    },
    {
      "cell_type": "code",
      "execution_count": 73,
      "metadata": {},
      "outputs": [],
      "source": [
        "#@title #### Authorize gspread as gc\n",
        "\n",
        "import gspread\n",
        "import os\n",
        "\n",
        "# Authorize gspread with Google Cloud API (per https://docs.gspread.org/en/v6.1.3/oauth2.html#enable-api-access-for-a-project)\n",
        "\n",
        "if os.environ.get(\"GOOGLE_KAGGLE_CREDENTIALS\") is None:\n",
        "\n",
        "    # gspread auth method for VS Code desktop -- requires GC service_account.json in APPDATA\n",
        "    gc = gspread.service_account()\n",
        "\n",
        "else:\n",
        "    # gspread auth method for Codespaces -- requires GC service_account.json as value in GitHub 'ru_ukraine_missile_drone_attacks' repo Secrets\n",
        "    credentials = eval(os.environ.get(\"GOOGLE_KAGGLE_CREDENTIALS\"))\n",
        "    gc = gspread.service_account_from_dict(credentials)"
      ]
    },
    {
      "cell_type": "code",
      "execution_count": 74,
      "metadata": {
        "colab": {
          "base_uri": "https://localhost:8080/"
        },
        "id": "tgOkItzWHuKz",
        "outputId": "87d12b0b-42a3-4d2a-ef45-fe18b998cd2f"
      },
      "outputs": [
        {
          "data": {
            "text/plain": [
              "{'spreadsheetId': '1Zs705hRN7HfUOOhTZN2nNIPB6SAeKaxU1AQAkGZinzk',\n",
              " 'updatedRange': 'missile_attacks_daily!A1:P1929',\n",
              " 'updatedRows': 1929,\n",
              " 'updatedColumns': 16,\n",
              " 'updatedCells': 30864}"
            ]
          },
          "execution_count": 74,
          "metadata": {},
          "output_type": "execute_result"
        }
      ],
      "source": [
        "#@title #### Update 'csis_kaggle_ru_ukraine_attacks' worksheet with cleaned 'attacks_df' data\n",
        "\n",
        "# Select worksheet from 'csis_kaggle_ru_ukraine_attacks' spreadsheet\n",
        "mad_ref = gc.open('csis_kaggle_ru_ukraine_attacks').worksheet('missile_attacks_daily')\n",
        "\n",
        "# Clear selected worksheet\n",
        "mad_ref.clear()\n",
        "\n",
        "# Import 'missile_attacks_daily' (from cleaned attacks_df) into gworksheet\n",
        "mad_upload = attacks_df.copy()\n",
        "mad_ref.update([mad_upload.columns.values.tolist()] + mad_upload.values.tolist())"
      ]
    },
    {
      "cell_type": "markdown",
      "metadata": {
        "id": "mANa_X3ZRcg8"
      },
      "source": [
        "## Data-cleaning"
      ]
    },
    {
      "cell_type": "code",
      "execution_count": 75,
      "metadata": {
        "id": "_nbSImYNRdnl"
      },
      "outputs": [],
      "source": [
        "#@title ### Create new columns in attacks_df\n",
        "\n",
        "# 'model_orig' and new 'model' (blank for now)\n",
        "if 'model_orig' not in attacks_df.columns:\n",
        "  attacks_df.rename(columns={'model':'model_orig'}, inplace=True)\n",
        "  attacks_df['model'] = '' * len(attacks_df.index)\n",
        "\n",
        "# 'diverged' and 'returned'\n",
        "attacks_df['diverged'] = attacks_df['not_reach_goal']\n",
        "attacks_df['returned'] = attacks_df['cross_border_belarus'] + attacks_df['back_russia']\n",
        "\n",
        "# 'hit' and 'miss'\n",
        "sub_miss = attacks_df['destroyed'] + attacks_df['diverged'] + attacks_df['returned']\n",
        "attacks_df['miss'] = sub_miss + (attacks_df['still_attacking'] * (sub_miss / attacks_df['launched'])).round()\n",
        "attacks_df['hit'] = attacks_df['launched'] - attacks_df['miss']\n",
        "\n",
        "# 'destroyed_rate' and 'miss_rate'\n",
        "attacks_df['destroyed_rate'] = (attacks_df['destroyed'] / attacks_df['launched']).round(2)\n",
        "attacks_df['miss_rate'] = (attacks_df['miss'] / attacks_df['launched']).round(2)"
      ]
    },
    {
      "cell_type": "code",
      "execution_count": 76,
      "metadata": {
        "id": "5ERfE3PPRgVd"
      },
      "outputs": [],
      "source": [
        "#@title ### Create simplified cmodel_df (for data-cleaning)\n",
        "\n",
        "# Original (as source record)\n",
        "cmodel_df_orig = attacks_df.loc[:, ('time_start', 'time_end', 'model_orig', 'model', 'launched', 'destroyed', 'hit', 'miss', 'destroyed_rate', 'miss_rate')].copy()\n",
        "#cmodel_df_orig[['launched', 'destroyed', 'not_reach_goal']] = cmodel_df_orig[['launched', 'destroyed', 'not_reach_goal']].astype('float') # Set dtypes for 'launched' and 'destroyed' to float\n",
        "\n",
        "# Working (for clean-up)\n",
        "cmodel_df = cmodel_df_orig.copy()"
      ]
    },
    {
      "cell_type": "markdown",
      "metadata": {
        "id": "M3dy-m0xnZWH"
      },
      "source": [
        "### Conduct 'Data Cleaning' on dfs using Google Sheets inputs"
      ]
    },
    {
      "cell_type": "markdown",
      "metadata": {
        "id": "kvO4LFA0jLP_"
      },
      "source": [
        "#### Clean-up: Reassign"
      ]
    },
    {
      "cell_type": "code",
      "execution_count": 77,
      "metadata": {
        "colab": {
          "base_uri": "https://localhost:8080/"
        },
        "id": "ZgPiEYsCVpLC",
        "outputId": "3d246f3a-53b0-42a9-df2c-4b51e11fb8a8"
      },
      "outputs": [
        {
          "name": "stdout",
          "output_type": "stream",
          "text": [
            "Index(['model_orig', 'model', 'alt_type', 'alt', 'alt_code'], dtype='object')\n"
          ]
        }
      ],
      "source": [
        "#@title ##### Consolidate data for 'Reassign\" clean-up\n",
        "\n",
        "# Create 'reassign_df' with re-formatted index, and drop 'mod_o_count' and 'note' columns\n",
        "reassign = gc.open('csis_kaggle_ru_ukraine_attacks').worksheet('reassign')\n",
        "reassign_df = pd.DataFrame(reassign.get_all_values(), columns=reassign.row_values(1))\n",
        "reassign_df = reassign_df.iloc[1:, :-2].reset_index(inplace=False, drop=True) # remove duplicate header row and drop last 2 columns\n",
        "\n",
        "# Create three sub-df's from the 'reassign' gworksheet\n",
        "reassign_dfa = reassign_df.iloc[:, [0,1,2,3]].copy() # model_orig entries to update in cmodel, to label with \"u\" 'alt_code'\n",
        "reassign_dfb = reassign_df[reassign_df['model_new_2']!=\"\"].iloc[:, [0,4,5,6]] # split entries to insert into cmodel, to label with \"i\" alt_code\n",
        "reassign_dfc = reassign_df[reassign_df['model_new_3']!=\"\"].iloc[:, [0,7,8,9]] # more split entries to insert into cmodel, to label with \"i\" alt_code\n",
        "\n",
        "# List of df's, and list of new/synchronized column names\n",
        "rconcat = [reassign_dfa, reassign_dfb, reassign_dfc]\n",
        "ncols = ['model_orig', 'model', 'alt_type', 'alt', 'alt_code']\n",
        "\n",
        "# Iterate over the df's, specifying 'alt_code' column and renaming columns\n",
        "for i, df in enumerate(rconcat):\n",
        "  if len(df)==len(reassign_dfa):\n",
        "    df['alt_code']='u'\n",
        "  else:\n",
        "    df['alt_code']='i'\n",
        "  df.columns = ncols\n",
        "\n",
        "# Concat sub-df's into one df\n",
        "reassign_dfn = pd.concat(rconcat, ignore_index=True)\n",
        "\n",
        "# Convert alt column type to float\n",
        "reassign_dfn[['alt']] = reassign_dfn[['alt']].astype('float')\n",
        "\n",
        "print(reassign_dfn.columns)"
      ]
    },
    {
      "cell_type": "code",
      "execution_count": 78,
      "metadata": {
        "id": "TUN5kMbd1cXN"
      },
      "outputs": [],
      "source": [
        "#@title ##### Clean-up: v3 Reassign (via df logic, using \"consolidated\" reassign data)\n",
        "\n",
        "re_ll2 = []\n",
        "\n",
        "# Iterate over rows in reassign_dfn\n",
        "for i, row in reassign_dfn.iterrows():\n",
        "\n",
        "  # Triage with if statements by alt_code\n",
        "\n",
        "  # Check entry for \"i\" alt_code, and if so create sub_df (from cmodel_df) to modify and append to re_ll2\n",
        "  if row.alt_code == \"i\":\n",
        "      sub_df = cmodel_df_orig.loc[cmodel_df_orig['model_orig']==row.model_orig].copy() # referencing cmodel_df_orig (to avoid any changes from already looped cmodel_df entries)\n",
        "      sub_df.loc[sub_df['model_orig']==row.model_orig, 'model'] = row.model\n",
        "\n",
        "      if row.alt_type == \"*=\": # just a formality\n",
        "        sub_df.loc[sub_df['model_orig']==row.model_orig, ['launched', 'destroyed', 'hit', 'miss', 'miss_rate', 'destroyed_rate']] *= row.alt\n",
        "        sub_df[['launched', 'destroyed', 'hit', 'miss']] = sub_df[['launched', 'destroyed', 'hit', 'miss']].round(0)\n",
        "        sub_df[['miss_rate', 'destroyed_rate']] = sub_df[['miss_rate', 'destroyed_rate']].round(2)\n",
        "\n",
        "      re_ll2.append(sub_df)\n",
        "\n",
        "  # Then check entry for \"u\" alt_code, and if so update cmodel_df according to alt_type and l_/d_alt\n",
        "  if row.alt_code == \"u\":\n",
        "      cmodel_df.loc[cmodel_df['model_orig']==row.model_orig, 'model'] = row.model\n",
        "\n",
        "      if row.alt_type == \"*=\": # just a formality\n",
        "        cmodel_df.loc[cmodel_df['model_orig']==row.model_orig, ['launched', 'destroyed', 'hit', 'miss', 'miss_rate', 'destroyed_rate']] *= row.alt\n",
        "        cmodel_df[['launched', 'destroyed', 'hit', 'miss']] = cmodel_df[['launched', 'destroyed', 'hit', 'miss']].round(0)\n",
        "        cmodel_df[['miss_rate', 'destroyed_rate']] = cmodel_df[['miss_rate', 'destroyed_rate']].round(2)"
      ]
    },
    {
      "cell_type": "code",
      "execution_count": 79,
      "metadata": {
        "colab": {
          "base_uri": "https://localhost:8080/"
        },
        "collapsed": true,
        "id": "J8lDpJHCfZoI",
        "outputId": "7575bb63-affe-45ec-c22e-34900d84cbe9"
      },
      "outputs": [
        {
          "name": "stdout",
          "output_type": "stream",
          "text": [
            "Concat complete.\n"
          ]
        }
      ],
      "source": [
        "#@title ##### Convert re_ll2 to re_df2 and concat to cmodel_df\n",
        "\n",
        "# Drop indices from dfs in re_ll2\n",
        "for dfr in re_ll2:\n",
        "    dfr = dfr.reset_index(drop=True, inplace=True)\n",
        "\n",
        "# Concat re_ll2 into re_df2\n",
        "re_df2 = pd.concat(re_ll2)\n",
        "\n",
        "# Concat re_df2 into cmodel_df\n",
        "cmodel_df = pd.concat([cmodel_df, re_df2], ignore_index=True)\n",
        "\n",
        "print(\"Concat complete.\")"
      ]
    },
    {
      "cell_type": "markdown",
      "metadata": {
        "id": "ptl_aWNOm8ac"
      },
      "source": [
        "#### Clean-up: Aggregate"
      ]
    },
    {
      "cell_type": "code",
      "execution_count": 80,
      "metadata": {
        "id": "OJxUdkdZGi_a"
      },
      "outputs": [],
      "source": [
        "# Create agg_df from gworksheet 'aggregate', and drop 'note' column\n",
        "agg = gc.open('csis_kaggle_ru_ukraine_attacks').worksheet('aggregate')\n",
        "agg_df = pd.DataFrame(agg.get_all_values(), columns=agg.row_values(1))\n",
        "agg_df = agg_df.iloc[1:, :-1].reset_index(inplace=False, drop=True) # remove duplicate header row and drop last column\n",
        "\n",
        "for ia, rowa in agg_df.iterrows():\n",
        "    cmodel_df.loc[cmodel_df['model_orig']==rowa.model_orig_1, 'model'] = rowa.model\n",
        "    cmodel_df.loc[cmodel_df['model_orig']==rowa.model_orig_2, 'model'] = rowa.model"
      ]
    },
    {
      "cell_type": "markdown",
      "metadata": {
        "id": "-ruDp-WqnBUh"
      },
      "source": [
        "#### Clean-up: Modify v2"
      ]
    },
    {
      "cell_type": "code",
      "execution_count": 81,
      "metadata": {
        "colab": {
          "base_uri": "https://localhost:8080/"
        },
        "id": "bMMsMqOsJBpf",
        "outputId": "55e31b1e-2820-4269-8702-6d60aa4a6cab"
      },
      "outputs": [
        {
          "name": "stdout",
          "output_type": "stream",
          "text": [
            "Actions and concat complete.\n"
          ]
        }
      ],
      "source": [
        "# Create mdfy_df from gworksheet 'modify', drop last three columns, and update dtypes\n",
        "mdfy = gc.open('csis_kaggle_ru_ukraine_attacks').worksheet('modify')\n",
        "mdfy_df = pd.DataFrame(mdfy.get_all_values(), columns=mdfy.row_values(1))\n",
        "mdfy_df = mdfy_df.iloc[1:, :-6].reset_index(inplace=False, drop=True) # remove duplicate header row and drop last six columns\n",
        "mdfy_df[['launched', 'destroyed', 'hit', 'miss']] = mdfy_df[['launched', 'destroyed', 'hit', 'miss']].astype('float') # set mdfy_df 'launched' and 'destroyed' dtypes to float\n",
        "\n",
        "# Create empty list (for sub_dfs to append)\n",
        "m_ll = []\n",
        "\n",
        "# Iterate over rows in mdfy_df per conditions and perform following actions\n",
        "for im, rowm in mdfy_df.iterrows():\n",
        "\n",
        "  if rowm.modified == \"1\": # 'model' has already been assigned and can be referenced\n",
        "      cmodel_df.loc[(cmodel_df['time_end']==rowm.time_end) & (cmodel_df['model']==rowm.model), ['launched', 'destroyed', 'hit' ,'miss']] = [rowm.launched, rowm.destroyed, rowm.hit, rowm.miss]\n",
        "      cmodel_df.loc[(cmodel_df['time_end']==rowm.time_end) & (cmodel_df['model']==rowm.model), ['miss_rate', 'destroyed_rate']] = [rowm.miss / rowm.launched, rowm.destroyed / rowm.launched] # split out from above for readability\n",
        "\n",
        "  if rowm.modified == \"0\": # 'model' not yet assigned, thus reference 'model_orig'\n",
        "      if rowm.alt_code == \"i\": # create and update subm_df to append/insert into cmodel_df\n",
        "          subm_df = cmodel_df.loc[(cmodel_df['time_end']==rowm.time_end) & (cmodel_df['model_orig']==rowm.model_orig)].copy()\n",
        "          subm_df[['model', 'launched', 'destroyed', 'hit' ,'miss']] = [rowm.model, rowm.launched, rowm.destroyed, rowm.hit, rowm.miss]\n",
        "          sub_df[['miss_rate', 'destroyed_rate']] = [rowm.miss / rowm.launched, rowm.destroyed / rowm.launched] # split out from row above for readability\n",
        "          m_ll.append(subm_df)\n",
        "      elif rowm.alt_code == \"u\": # update cmodel_df\n",
        "          cmodel_df.loc[(cmodel_df['time_end']==rowm.time_end) & (cmodel_df['model_orig']==rowm.model_orig), ['launched', 'destroyed', 'hit' ,'miss']] = [rowm.launched, rowm.destroyed, rowm.hit, rowm.miss]\n",
        "          cmodel_df.loc[(cmodel_df['time_end']==rowm.time_end) & (cmodel_df['model_orig']==rowm.model_orig), ['miss_rate', 'destroyed_rate']] = [rowm.miss / rowm.launched, rowm.destroyed / rowm.launched]\n",
        "\n",
        "# Convert and concat/append mdfy_ll into cmodel_df\n",
        "for dfm in m_ll:\n",
        "    dfm = dfm.reset_index(drop=True, inplace=True)\n",
        "\n",
        "m_df = pd.concat(m_ll)\n",
        "\n",
        "cmodel_df = pd.concat([cmodel_df, m_df], ignore_index=True)\n",
        "\n",
        "print(\"Actions and concat complete.\")"
      ]
    },
    {
      "cell_type": "markdown",
      "metadata": {
        "id": "LdEz2ViCnO4S"
      },
      "source": [
        "### Clean-up: Final steps"
      ]
    },
    {
      "cell_type": "code",
      "execution_count": 82,
      "metadata": {
        "colab": {
          "base_uri": "https://localhost:8080/"
        },
        "id": "iBlWDv2ErekE",
        "outputId": "66ee015a-4570-4673-a3a2-1823141b6a37"
      },
      "outputs": [
        {
          "name": "stdout",
          "output_type": "stream",
          "text": [
            "Successfully added 'model' to other entries.\n"
          ]
        }
      ],
      "source": [
        "#@title ### Clean-up: Add 'model' for unmodified entries\n",
        "\n",
        "modified_entries = cmodel_df.loc[cmodel_df['model']!=\"\"].index\n",
        "model_check = cmodel_df.loc[cmodel_df['model']!=\"\", 'model'].copy()\n",
        "\n",
        "cmodel_df.loc[cmodel_df['model']==\"\", 'model'] = cmodel_df.loc[cmodel_df['model']==\"\", 'model_orig']\n",
        "\n",
        "if cmodel_df.loc[modified_entries, 'model'].to_list() == model_check.to_list():\n",
        "  print(\"Successfully added 'model' to other entries.\")\n",
        "else:\n",
        "  print(\"Possible error and/or over-writing 'model' of cleaned entries. Check data.\")"
      ]
    },
    {
      "cell_type": "code",
      "execution_count": 83,
      "metadata": {
        "id": "Q9_rqCFrNI5z"
      },
      "outputs": [],
      "source": [
        "#@title ### Clean-up: Add 'hit_rate' to cmodel_df\n",
        "\n",
        "# Add hit_rate cmodel_df (simpler to do so here rather than update all above code components involving gspread)\n",
        "\n",
        "cmodel_df['hit_rate'] = (cmodel_df['hit'] / cmodel_df['launched']).round(2)"
      ]
    },
    {
      "cell_type": "code",
      "execution_count": 84,
      "metadata": {
        "colab": {
          "base_uri": "https://localhost:8080/",
          "height": 622
        },
        "id": "G_-4sZpNqqUE",
        "outputId": "60217c44-6dc9-4c50-fcf4-ca05fbac67ce"
      },
      "outputs": [
        {
          "name": "stdout",
          "output_type": "stream",
          "text": [
            "'cmodel_df_orig' summed counts:\n",
            "launched    18,929.0\n",
            "destroyed   13,646.0\n",
            "dtype: float64 \n",
            "\n",
            "'cmodel_df' summed counts:\n",
            "launched    18,930.0\n",
            "destroyed   13,642.0\n",
            "dtype: float64 \n",
            "\n",
            "Difference in summed counts:\n",
            "launched    -1.0\n",
            "destroyed    4.0\n",
            "dtype: float64 \n",
            "\n",
            "Difference between cmodel_df_orig and cmodel_df, by 'model_orig':\n"
          ]
        },
        {
          "data": {
            "text/html": [
              "<div>\n",
              "<style scoped>\n",
              "    .dataframe tbody tr th:only-of-type {\n",
              "        vertical-align: middle;\n",
              "    }\n",
              "\n",
              "    .dataframe tbody tr th {\n",
              "        vertical-align: top;\n",
              "    }\n",
              "\n",
              "    .dataframe thead th {\n",
              "        text-align: right;\n",
              "    }\n",
              "</style>\n",
              "<table border=\"1\" class=\"dataframe\">\n",
              "  <thead>\n",
              "    <tr style=\"text-align: right;\">\n",
              "      <th></th>\n",
              "      <th>launched</th>\n",
              "      <th>destroyed</th>\n",
              "    </tr>\n",
              "    <tr>\n",
              "      <th>model_orig</th>\n",
              "      <th></th>\n",
              "      <th></th>\n",
              "    </tr>\n",
              "  </thead>\n",
              "  <tbody>\n",
              "    <tr>\n",
              "      <th>C-400 and Iskander-M</th>\n",
              "      <td>7.0</td>\n",
              "      <td>7.0</td>\n",
              "    </tr>\n",
              "    <tr>\n",
              "      <th>Iskander-M/KN-23</th>\n",
              "      <td>-1.0</td>\n",
              "      <td>3.0</td>\n",
              "    </tr>\n",
              "    <tr>\n",
              "      <th>Orlan-10 and ZALA</th>\n",
              "      <td>-1.0</td>\n",
              "      <td>-1.0</td>\n",
              "    </tr>\n",
              "    <tr>\n",
              "      <th>X-101/X-555 and Kalibr and X-59/X-69</th>\n",
              "      <td>-6.0</td>\n",
              "      <td>-5.0</td>\n",
              "    </tr>\n",
              "  </tbody>\n",
              "</table>\n",
              "</div>"
            ],
            "text/plain": [
              "                                      launched  destroyed\n",
              "model_orig                                               \n",
              "C-400 and Iskander-M                       7.0        7.0\n",
              "Iskander-M/KN-23                          -1.0        3.0\n",
              "Orlan-10 and ZALA                         -1.0       -1.0\n",
              "X-101/X-555 and Kalibr and X-59/X-69      -6.0       -5.0"
            ]
          },
          "metadata": {},
          "output_type": "display_data"
        },
        {
          "name": "stdout",
          "output_type": "stream",
          "text": [
            "\n",
            "These discrepances are known and accepted:\n",
            "1. C-400 and Iskander-M\t7.0\t7.0 -- correction from data capture error in Kaggle dataset\n",
            "2. Iskander-M/KN-23\t-1.0\t3.0 -- due to rounding during clean-up\n",
            "3. Orlan-10 and ZALA\t-1.0\t-1.0 -- due to rounding during clean-up\n",
            "4. X-101/X-555 and Kalibr and X-59/X-69 -6.0\t-5.0 -- due to data correction as specified in Kaggle dataset. \n",
            "\n",
            "Summary:\n",
            "Data clean-up seems successful (same number of discrepancies as previously identified).\n"
          ]
        }
      ],
      "source": [
        "#@title ### Clean-up: Error Checking (via comparing 'cmodel_df_orig' and 'cmodel_df')\n",
        "\n",
        "print(\"'cmodel_df_orig' summed counts:\")\n",
        "print(cmodel_df_orig[['launched', 'destroyed']].sum(), \"\\n\")\n",
        "print(\"'cmodel_df' summed counts:\")\n",
        "print(cmodel_df[['launched', 'destroyed']].sum(), \"\\n\")\n",
        "print(\"Difference in summed counts:\")\n",
        "print(cmodel_df_orig[['launched', 'destroyed']].sum() - cmodel_df[['launched', 'destroyed']].sum(), \"\\n\")\n",
        "\n",
        "# Create variables for total, launched, and destroyed differentials\n",
        "l_diff, d_diff = cmodel_df_orig[['launched', 'destroyed']].sum() - cmodel_df[['launched', 'destroyed']].sum().to_list()\n",
        "\n",
        "# Create check_df as the difference betwen cmodel_df_orig and cmodel_df, grouped by model_orig\n",
        "check_df = cmodel_df_orig.groupby('model_orig')[['launched', 'destroyed']].sum() - cmodel_df.groupby('model_orig')[['launched', 'destroyed']].sum()\n",
        "\n",
        "# Displays model_orig rows (if any) for which subracted 'launched' or 'destroyed' is not 0 -- no entry should deviate by ~5 or more, else indicates a potential error\n",
        "err_comp_df = check_df[(check_df['launched'] != 0) | (check_df['destroyed'] != 0)]\n",
        "print(\"Difference between cmodel_df_orig and cmodel_df, by 'model_orig':\")\n",
        "display(err_comp_df)\n",
        "\n",
        "print() # blank line\n",
        "print(\"These discrepances are known and accepted:\")\n",
        "print(\"1. C-400 and Iskander-M\t7.0\t7.0 -- correction from data capture error in Kaggle dataset\")\n",
        "print(\"2. Iskander-M/KN-23\t-1.0\t3.0 -- due to rounding during clean-up\")\n",
        "print(\"3. Orlan-10 and ZALA\t-1.0\t-1.0 -- due to rounding during clean-up\")\n",
        "print(\"4. X-101/X-555 and Kalibr and X-59/X-69 -6.0\t-5.0 -- due to data correction as specified in Kaggle dataset.\", \"\\n\")\n",
        "\n",
        "num_known_discrep = 4    # manually entered\n",
        "\n",
        "print(\"Summary:\")\n",
        "if len(err_comp_df) == num_known_discrep:\n",
        "  print(\"Data clean-up seems successful (same number of discrepancies as previously identified).\")\n",
        "else:\n",
        "  print(\"Changes have resulted since error-checking last reviewed; it is recommended to review again.\")"
      ]
    },
    {
      "cell_type": "code",
      "execution_count": 85,
      "metadata": {
        "colab": {
          "base_uri": "https://localhost:8080/",
          "height": 150
        },
        "id": "-RfxBpsX7qC_",
        "outputId": "0595905e-91fe-40df-a0fb-dd2f219079c4"
      },
      "outputs": [
        {
          "data": {
            "text/html": [
              "<div>\n",
              "<style scoped>\n",
              "    .dataframe tbody tr th:only-of-type {\n",
              "        vertical-align: middle;\n",
              "    }\n",
              "\n",
              "    .dataframe tbody tr th {\n",
              "        vertical-align: top;\n",
              "    }\n",
              "\n",
              "    .dataframe thead th {\n",
              "        text-align: right;\n",
              "    }\n",
              "</style>\n",
              "<table border=\"1\" class=\"dataframe\">\n",
              "  <thead>\n",
              "    <tr style=\"text-align: right;\">\n",
              "      <th></th>\n",
              "      <th>time_start</th>\n",
              "      <th>time_end</th>\n",
              "      <th>model_orig</th>\n",
              "      <th>model</th>\n",
              "      <th>launched</th>\n",
              "      <th>destroyed</th>\n",
              "      <th>hit</th>\n",
              "      <th>miss</th>\n",
              "      <th>destroyed_rate</th>\n",
              "      <th>miss_rate</th>\n",
              "      <th>hit_rate</th>\n",
              "    </tr>\n",
              "  </thead>\n",
              "  <tbody>\n",
              "    <tr>\n",
              "      <th>1929</th>\n",
              "      <td>2024-11-17 05:30</td>\n",
              "      <td>2024-11-17 08:30</td>\n",
              "      <td>X-101/X-555 and Kalibr</td>\n",
              "      <td>Kalibr</td>\n",
              "      <td>43.0</td>\n",
              "      <td>37.0</td>\n",
              "      <td>7.0</td>\n",
              "      <td>37.0</td>\n",
              "      <td>0.4</td>\n",
              "      <td>0.4</td>\n",
              "      <td>0.2</td>\n",
              "    </tr>\n",
              "  </tbody>\n",
              "</table>\n",
              "</div>"
            ],
            "text/plain": [
              "            time_start          time_end              model_orig   model  \\\n",
              "1929  2024-11-17 05:30  2024-11-17 08:30  X-101/X-555 and Kalibr  Kalibr   \n",
              "\n",
              "      launched  destroyed  hit  miss  destroyed_rate  miss_rate  hit_rate  \n",
              "1929      43.0       37.0  7.0  37.0             0.4        0.4       0.2  "
            ]
          },
          "metadata": {},
          "output_type": "display_data"
        },
        {
          "name": "stdout",
          "output_type": "stream",
          "text": [
            "\n",
            "These discrepancies are known and accounted:\n",
            "model_orig   model  launched  destroyed hit miss\n",
            "X-101/X-555 and Kalibr\tKalibr\t43.0\t37.0\t7.0\t37.0\n"
          ]
        }
      ],
      "source": [
        "#@title #### Checking newly created column totals ('hit' and 'miss')\n",
        "\n",
        "display(cmodel_df[(cmodel_df['hit'] + cmodel_df['miss']) > cmodel_df['launched']])\n",
        "\n",
        "print() # blank line\n",
        "print(\"These discrepancies are known and accounted:\")\n",
        "print(\"model_orig   model  launched  destroyed hit miss\")\n",
        "print(\"X-101/X-555 and Kalibr\tKalibr\t43.0\t37.0\t7.0\t37.0\")"
      ]
    },
    {
      "cell_type": "markdown",
      "metadata": {
        "id": "H45mmrH52kQ8"
      },
      "source": [
        "### Insert model_detail data from Google Sheets"
      ]
    },
    {
      "cell_type": "code",
      "execution_count": 86,
      "metadata": {
        "colab": {
          "base_uri": "https://localhost:8080/"
        },
        "collapsed": true,
        "id": "wqGJLBp61rl7",
        "outputId": "423e11e8-d397-496c-d87e-fa7abe1f7633"
      },
      "outputs": [
        {
          "name": "stdout",
          "output_type": "stream",
          "text": [
            "Complete (no NA entries).\n"
          ]
        }
      ],
      "source": [
        "#@title #### Convert 'ru_model_detail' worksheet into a df\n",
        "\n",
        "detail = gc.open('csis_kaggle_ru_ukraine_attacks').worksheet('model_detail')\n",
        "detail_df = pd.DataFrame(detail.get_all_values(), columns=detail.row_values(1))\n",
        "detail_df = detail_df.iloc[1:, :].reset_index(inplace=False, drop=True)\n",
        "\n",
        "if detail_df.isna().sum().sum() == 0:\n",
        "  print(\"Complete (no NA entries).\")\n",
        "else:\n",
        "  print(\"Check upload datasheet--NA entries present.\")"
      ]
    },
    {
      "cell_type": "code",
      "execution_count": 87,
      "metadata": {
        "colab": {
          "base_uri": "https://localhost:8080/"
        },
        "id": "VvgPqRYvaomF",
        "outputId": "d27e4f93-61a6-4d65-a19c-3ff932865e73"
      },
      "outputs": [
        {
          "name": "stdout",
          "output_type": "stream",
          "text": [
            "Merge complete.\n"
          ]
        }
      ],
      "source": [
        "#@title #### Merge cmodel_df and detail_df with an inner join\n",
        "\n",
        "# prompt: Join on inner cmodel_df and detail_df, so that each indexed row in cmodel_df has columns added that mapped over from detail_df.\n",
        "\n",
        "merged_df = pd.merge(cmodel_df, detail_df, on='model', how='inner')\n",
        "\n",
        "# round 'miss_rate' to two decimal places\n",
        "merged_df['miss_rate'] = merged_df['miss_rate'].round(2)\n",
        "\n",
        "# set 'start_date' and 'end_date' to datetime\n",
        "merged_df['time_start'] = pd.to_datetime(merged_df['time_start'], format='mixed')\n",
        "merged_df['time_end'] = pd.to_datetime(merged_df['time_end'], format='mixed')\n",
        "\n",
        "print('Merge complete.')"
      ]
    },
    {
      "cell_type": "markdown",
      "metadata": {
        "id": "rBqDDIDOrB7T"
      },
      "source": [
        "## Data Analytics"
      ]
    },
    {
      "cell_type": "code",
      "execution_count": 109,
      "metadata": {
        "colab": {
          "base_uri": "https://localhost:8080/"
        },
        "id": "A2xGqSlPq-0N",
        "outputId": "bdd784c6-1782-4db7-e4df-30ceacd5559c"
      },
      "outputs": [
        {
          "name": "stdout",
          "output_type": "stream",
          "text": [
            "┌───────────────────┬────────────┬───────┬────────┬─────────────┐\n",
            "│ category          │   launched │   hit │   miss │   destroyed │\n",
            "├───────────────────┼────────────┼───────┼────────┼─────────────┤\n",
            "│ UAV               │     14,716 │ 1,127 │ 13,589 │      11,076 │\n",
            "│ cruise missile    │      3,247 │   906 │  2,339 │       2,311 │\n",
            "│ anti-air missile  │        417 │   402 │     15 │          15 │\n",
            "│ ballistic missile │        312 │   255 │     53 │          52 │\n",
            "│ aerial bomb       │         30 │    21 │      9 │           9 │\n",
            "│ IRBM              │          1 │     1 │      0 │           0 │\n",
            "└───────────────────┴────────────┴───────┴────────┴─────────────┘\n"
          ]
        }
      ],
      "source": [
        "#@title ### Descriptive analytics on cmodel_df\n",
        "\n",
        "from tabulate import tabulate\n",
        "\n",
        "print(tabulate(merged_df.groupby(['category'])[['launched', 'hit', 'miss', 'destroyed']].sum().sort_values('launched', ascending=False), headers='keys', tablefmt='simple_outline', floatfmt=\",.0f\"))"
      ]
    },
    {
      "cell_type": "markdown",
      "metadata": {
        "id": "w0yttTVUkaxK"
      },
      "source": [
        "### DPX Components"
      ]
    },
    {
      "cell_type": "markdown",
      "metadata": {
        "id": "X-G0_Fj7qwAW"
      },
      "source": [
        "#### Install and Load Dash/Plotly modules-functions"
      ]
    },
    {
      "cell_type": "code",
      "execution_count": 110,
      "metadata": {
        "colab": {
          "base_uri": "https://localhost:8080/"
        },
        "id": "gUXROVWYgRXn",
        "outputId": "454a31f7-a4e6-4af0-c5f1-f6ea65ce8f20"
      },
      "outputs": [],
      "source": [
        "#@title Install dash/plotly modules\n",
        "\n",
        "!pip install dash plotly dash-html-components dash-core-components dash-bootstrap-components --quiet"
      ]
    },
    {
      "cell_type": "code",
      "execution_count": 111,
      "metadata": {
        "id": "LzzFbzxYqjsv"
      },
      "outputs": [],
      "source": [
        "#@title Load most Dash/Plotly functions\n",
        "\n",
        "import dash\n",
        "from dash import dcc, html, Input, Output, dash_table, State\n",
        "import dash_bootstrap_components as dbc\n",
        "import plotly.express as px\n",
        "import pandas as pd"
      ]
    },
    {
      "cell_type": "markdown",
      "metadata": {
        "id": "pHAYJpnkkRLd"
      },
      "source": [
        "#### DPX app: details_table"
      ]
    },
    {
      "cell_type": "code",
      "execution_count": 112,
      "metadata": {
        "id": "gdRX8IKfF_Ij"
      },
      "outputs": [],
      "source": [
        "#@title DPX app: details_table\n",
        "\n",
        "# prompt: Using Dash Plotly and from merge_df, create a table that groups merged_df by the columns from detail_df (i.e. detail_df.columns) and aggregates 'launched', 'hit', 'miss', 'destroyed', and 'miss_rate' the rows.\n",
        "\n",
        "import dash\n",
        "from dash import dash_table, State\n",
        "\n",
        "#app = dash.Dash(__name__, external_stylesheets=[dbc.themes.SLATE])\n",
        "\n",
        "# Create the data for the PX table, using df.groupby().agg()\n",
        "details_data = merged_df.groupby(detail_df.columns.tolist())[['launched', 'hit', 'miss', 'destroyed', 'miss_rate']].agg({\n",
        "            'launched': 'sum',\n",
        "            'hit': 'sum',\n",
        "            'miss': 'sum',\n",
        "            'destroyed': 'sum',\n",
        "            'miss_rate': 'mean'\n",
        "        }).reset_index()\n",
        "\n",
        "# Sort the details_data into category and type, descending by max 'launched' value per category and type, then by 'launched' within each 'category-type'\n",
        "details_data['miss_rate'] = details_data['miss_rate'].round(2)\n",
        "details_data['destroyed_rate'] = (details_data['destroyed'] / details_data['launched']).round(2)\n",
        "details_data['max_l_cat'] = details_data.groupby(['category'])['launched'].transform('max')\n",
        "details_data['max_l_type'] = details_data.groupby(['type'])['launched'].transform('max')\n",
        "details_data = details_data.sort_values(by=['max_l_cat', 'max_l_type', 'launched'], ascending=False, inplace=False)\n",
        "details_data.drop(columns=['max_l_cat', 'max_l_type'], inplace=True) # drop temporary columns used for sorting\n",
        "\n",
        "# Create dict of column names to use in detail_table\n",
        "details_columns = [{\"name\": i, \"id\": i} for i in detail_df.columns.tolist() + ['launched', 'hit', 'miss', 'destroyed', 'miss_rate']]\n",
        "\n",
        "# PX table data and html formatting\n",
        "details_table = html.Div([\n",
        "    html.H2(\"Missile & Drone Model Details\"),\n",
        "    dbc.Button(\"Reset Sorting\", id=\"reset-sorting-btn\", color=\"primary\", outline=True, size=\"sm\"),\n",
        "    dash_table.DataTable(\n",
        "        id='details-table',\n",
        "        columns=details_columns,\n",
        "        data=details_data.to_dict('records'),\n",
        "        style_table={'margin-top': '10px'},\n",
        "        style_header={\n",
        "            'backgroundColor': 'rgb(30, 30, 30)',\n",
        "            'color': 'lightgray',\n",
        "            'fontWeight': 'bold',\n",
        "            'whitespace': 'normal',\n",
        "            'height': 'auto',\n",
        "            #'minwidth': '20px'\n",
        "        },\n",
        "        style_data={\n",
        "            'backgroundColor': 'rgb(50, 50, 50)',\n",
        "            'color': 'lightgray',\n",
        "        },\n",
        "        style_data_conditional=[\n",
        "            {'if': {'column_id': 'miss_rate'}, 'type': 'float', 'format': {'specifier': '.2f'}} # Format with two decimal places\n",
        "        ],\n",
        "        style_cell={'fontSize': 8, 'minwidth': '4%'},\n",
        "        style_cell_conditional=[\n",
        "            {'if': {'column_id': ['model', 'type', 'detail', 'maneuverability']}, 'width': '8%'},\n",
        "            {'if': {'column_id': ['category', 'range', 'altitude', 'speed']}, 'width': '7%'},\n",
        "            {'if': {'column_id': ['payload_kg', 'accuracy', 'unit_cost_usd']}, 'width': '5.33%'},\n",
        "            {'if': {'column_id': ['launched', 'hit', 'miss', 'destroyed', 'miss_rate', 'destroyed_rate']}, 'width': '4%'},\n",
        "        ],\n",
        "        #style_table={'overflowX': 'auto'},\n",
        "        sort_action='native',\n",
        "        sort_mode='multi',\n",
        "        page_size=10,\n",
        "        #style_table={'overflowX': 'auto', 'height': '300px', 'overflowY': 'auto'},\n",
        "        fixed_rows={'headers': True},\n",
        "    )\n",
        "], style={'margin-top': '5px'})"
      ]
    },
    {
      "cell_type": "markdown",
      "metadata": {
        "id": "C_0vz4CmlG9K"
      },
      "source": [
        "#### DPX app: attacks_table (data)"
      ]
    },
    {
      "cell_type": "code",
      "execution_count": 113,
      "metadata": {
        "id": "fczT0Y8TRn-4"
      },
      "outputs": [],
      "source": [
        "# prompt: Create attacks_table_data grouping merged_df by 'category' and summing ['launched', 'hit', 'miss', 'destroyed'] and averaging ['hit_rate', 'miss_rate', 'destroyed_rate'].\n",
        "\n",
        "# Calculate the averages for 'hit_rate', 'miss_rate', and 'destroyed_rate'\n",
        "attacks_table_data = merged_df.groupby('category', observed=False).agg(\n",
        "    launched=('launched', 'sum'),\n",
        "    hit=('hit', 'sum'),\n",
        "    hit_rate=('hit_rate', 'mean'),\n",
        "    miss=('miss', 'sum'),\n",
        "    miss_rate=('miss_rate', 'mean'),\n",
        "    destroyed=('destroyed', 'sum'),\n",
        "    destroyed_rate=('destroyed_rate', 'mean')\n",
        ").sort_values('launched', ascending=False).reset_index().to_dict('records')\n",
        "\n",
        "# Calculate totals row for the table\n",
        "attacks_table_totals = merged_df.groupby('category', observed=False).agg(\n",
        "    launched=('launched', 'sum'),\n",
        "    hit=('hit', 'sum'),\n",
        "    miss=('miss', 'sum'),\n",
        "    destroyed=('destroyed', 'sum'),\n",
        "    #hit_rate=('hit_rate', 'mean'),\n",
        "    #miss_rate=('miss_rate', 'mean'),\n",
        "    #destroyed_rate=('destroyed_rate', 'mean')\n",
        ").sum()\n",
        "\n",
        "# Create separate \"avgs\" dict for hit_rate, miss_rate, and destroyed_rate (from overall dataset totals)\n",
        "attacks_table_avgs = {\n",
        "    'hit_rate': (merged_df['hit'].sum() / merged_df['launched'].sum()).round(2),\n",
        "    'miss_rate': (merged_df['miss'].sum() / merged_df['launched'].sum()).round(2),\n",
        "    'destroyed_rate': (merged_df['destroyed'].sum() / merged_df['launched'].sum()).round(2)\n",
        "}\n",
        "\n",
        "# Create dict of  totals row\n",
        "attacks_totals_dict = {'category': 'Total'} # create header-only dict \n",
        "attacks_totals_dict.update(attacks_table_totals) # add sumtotals data\n",
        "attacks_totals_dict.update(attacks_table_avgs) # add avgs data\n",
        "\n",
        "# Append totals row to the table data\n",
        "attacks_table_data.append(attacks_totals_dict)"
      ]
    },
    {
      "cell_type": "code",
      "execution_count": 114,
      "metadata": {
        "id": "xAkABYeu--Dw"
      },
      "outputs": [],
      "source": [
        "#@title attacks_table (html)\n",
        "\n",
        "# prompt: Using Dash Plotly and from merged_df, create a table which displays the 'launched', 'hit', 'miss', and 'destroyed' summed-up counts, grouped by 'category'. Title this table as, \"Missile Attacks by Category, for All Time\".\n",
        "\n",
        "from dash import dash_table, html\n",
        "from dash import dash_table\n",
        "from dash.dash_table.Format import Format, Group, Scheme\n",
        "\n",
        "\n",
        "# Define cell style for 'Table' row\n",
        "total_style = [{\n",
        "    'if': {\n",
        "        'filter_query': '{category} = \"Total\"',  # Filter for rows where category is 'Total'\n",
        "        'column_id': list(attacks_table_data[0].keys())  # Apply across all columns\n",
        "    },\n",
        "    'backgroundColor': 'rgba(211, 211, 211, 0.1)',  # Set background color\n",
        "}]\n",
        "\n",
        "\n",
        "# Define attacks_table via html\n",
        "attacks_table = html.Div([\n",
        "    html.H4(\"Missile Attacks by Category\"),\n",
        "    dash_table.DataTable(\n",
        "        id='attacks-table',\n",
        "        #columns=[{\"name\": i, \"id\": i} for i in ['category', 'launched', 'hit', 'miss', 'destroyed']],\n",
        "        columns=[\n",
        "            {\"name\": 'category', \"id\": 'category', \"type\": 'text'},  # Set 'category' to string/object type\n",
        "            {\"name\": 'launched', \"id\": 'launched', \"type\": 'numeric', \"format\": Format().group(True)},  # Set 'launched' to numeric\n",
        "            {\"name\": 'hit', \"id\": 'hit', \"type\": 'numeric', \"format\": Format().group(True)},  # Set 'hit' to numeric\n",
        "            {\"name\": 'hit_rate', \"id\": 'hit_rate', \"type\": 'numeric', \"format\": Format(precision=0, scheme=Scheme.percentage)},\n",
        "            {\"name\": 'miss', \"id\": 'miss', \"type\": 'numeric', \"format\": Format().group(True)},  # Set 'miss' to numeric\n",
        "            {\"name\": 'miss_rate', \"id\": 'miss_rate', \"type\": 'numeric', \"format\": Format(precision=0, scheme=Scheme.percentage)},\n",
        "            {\"name\": 'destroyed', \"id\": 'destroyed', \"type\": 'numeric', \"format\": Format().group(True)},  # Set 'destroyed' to numeric\n",
        "            {\"name\": 'destroyed_rate', \"id\": 'destroyed_rate', \"type\": 'numeric', \"format\": Format(precision=0, scheme=Scheme.percentage)},\n",
        "        ],\n",
        "        data=attacks_table_data,\n",
        "        style_header={\n",
        "            'backgroundColor': 'rgb(30, 30, 30)',\n",
        "            'color': 'lightgray',\n",
        "        },\n",
        "        style_data={\n",
        "            'backgroundColor': 'rgb(50, 50, 50)',\n",
        "            'color': 'lightgray',\n",
        "        },\n",
        "        style_table={\n",
        "            'overflowX': 'auto',\n",
        "            'width': '100%',\n",
        "            'margin-bottom': '10px',\n",
        "        },\n",
        "        style_cell={'fontSize': 14, 'textAlign': 'center'},\n",
        "        style_cell_conditional=[\n",
        "            {'if': {'column_id': 'category'}, 'width': '23%'}, # Set width for 'category' column\n",
        "            {'if': {'column_id': ['launched', 'hit', 'hit_rate' 'miss', 'miss_rate', 'destroyed', 'destroyed_rate']}, 'width': '11%', 'format': {'specifier': ',.0f'}}  # Equal width for other columns, and center-aligned text\n",
        "        ],\n",
        "        style_data_conditional=total_style  # apply style for 'Total' row\n",
        "    )\n",
        "])"
      ]
    },
    {
      "cell_type": "markdown",
      "metadata": {
        "id": "I-rKD6ZhlqIy"
      },
      "source": [
        "#### DPX app: intro_info"
      ]
    },
    {
      "cell_type": "code",
      "execution_count": 159,
      "metadata": {
        "id": "eXtjgP-qMbxy"
      },
      "outputs": [],
      "source": [
        "#@title intro_info\n",
        "\n",
        "# brief description and image\n",
        "\n",
        "# Create kaggle_last_updated variable for the date that the kaggle dataset was last updated\n",
        "import zipfile\n",
        "import datetime\n",
        "with zipfile.ZipFile(\"massive-missile-attacks-on-ukraine.zip\", \"r\") as zip_ref:\n",
        "    for file_info in zip_ref.infolist():\n",
        "       kaggle_info_date = file_info.date_time\n",
        "\n",
        "kaggle_last_updated = datetime.date(kaggle_info_date[0], kaggle_info_date[1], kaggle_info_date[2]).strftime(\"%m/%d/%Y\")\n",
        "\n",
        "# Create intro 'Description' as dbc.Card()\n",
        "intro_text = dbc.Card(\n",
        "    dbc.CardBody([\n",
        "        html.H4(\"Description\", className=\"card-title\", style={'textAlign': 'center'}),\n",
        "        html.P([\n",
        "            \"This \",\n",
        "            html.A(\"dashboard\", href=\"https://ru-ukraine-missile-drone-attacks.onrender.com/\"),\n",
        "            \" presents metrics on Russian missiles & drones launched against Ukraine (Oct 2022-present).\",\n",
        "            html.Div(html.Img(src=\"assets/ukraine_map_flag_transparent_cropped.png\", alt=\"ukraine-map\", style={'width': '90%'}), style={'textAlign': 'center'}),\n",
        "            \"The data source is Kaggle-hosted \",\n",
        "            html.A(\"Massive Missile Attacks on Ukraine\", href=\"https://www.kaggle.com/datasets/piterfm/massive-missile-attacks-on-ukraine\", target=\"_blank\"),\n",
        "            \", which weekly sources its data from the Ukrainian Air Force social accounts (e.g. \",\n",
        "            html.A(\"KpsZSU\", href=\"https://facebook.com/kpszsu\"),\n",
        "            \", \",\n",
        "            html.A(\"PvKPivden\", href=\"https://facebook.com/PvKPivden\"),\n",
        "            \") and is also featured by \",\n",
        "            html.A(\"CSIS\", href=\"https://www.csis.org/programs/futures-lab/projects/russian-firepower-strike-tracker-analyzing-missile-attacks-ukraine\"),\n",
        "            \". Hooper Consulting \",\n",
        "            html.A(\"cleans and enhances\", href=\"https://docs.google.com/spreadsheets/d/1Zs705hRN7HfUOOhTZN2nNIPB6SAeKaxU1AQAkGZinzk/edit?usp=sharing\"),\n",
        "            \" the Kaggle data, and delivers this dashboard via a Python Dash app, \",\n",
        "            html.A(\"GitHub\", href=\"https://github.com/dhoop1/ru_ukraine_missile_drone_attacks\"),\n",
        "            \", and Render.\",\n",
        "            #html.Br(),\n",
        "            #html.Em(\"Kaggle Data Updated: \" + kaggle_last_updated),\n",
        "        ], className=\"card-text\", style={'fontSize': '10px', 'textAlign': 'center'},\n",
        "        ),\n",
        "        html.P([\n",
        "            html.Em(\"Kaggle data updated: \" + kaggle_last_updated),\n",
        "        ], className=\"card-text\", style={'fontSize': '10px', 'textAlign': 'center', 'margin': '0px'}\n",
        "        )\n",
        "    ]),\n",
        "    #style={'border': '1px solid lightgray', \"margin-bottom\":\"15px\"},\n",
        "    style={'border': 'none', 'textAlign': 'center', 'background-color': 'rgba(211, 211, 211, 0.07)'} # set faint gray background\n",
        ")"
      ]
    },
    {
      "cell_type": "markdown",
      "metadata": {
        "id": "xLiafhgaluyx"
      },
      "source": [
        "#### DPX app: metrics_bar"
      ]
    },
    {
      "cell_type": "code",
      "execution_count": 116,
      "metadata": {
        "id": "VBwX7WnyO3Ni"
      },
      "outputs": [],
      "source": [
        "#@title metrics_bar (data)\n",
        "\n",
        "# days_at_war\n",
        "from datetime import date\n",
        "#min_date = pd.to_datetime(merged_df['time_start'], format=\"mixed\").min()\n",
        "start_date = pd.to_datetime(\"02/24/2022 12:00:00\") # First day of Russia invasion against Ukraine (24 Feb 2022), as reported by the Ukrainian Air Force\n",
        "today = date.today()\n",
        "days_at_war = (today - start_date.date()).days\n",
        "\n",
        "# weeks_count\n",
        "min_date = pd.to_datetime(merged_df['time_start'], format=\"mixed\").min()\n",
        "today = date.today()\n",
        "weeks_count = round((today - min_date.date()).days / 7, 0)\n",
        "\n",
        "# total_launched\n",
        "total_launched = merged_df['launched'].sum()\n",
        "\n",
        "# total_ru_mad_cost\n",
        "merged_df['unit_cost_usd'] = merged_df['unit_cost_usd'].astype(str).str.replace(\",\", \"\", regex=False)\n",
        "merged_df['unit_cost_usd'] = pd.to_numeric(merged_df['unit_cost_usd'], errors='coerce')\n",
        "attack_cost = merged_df['launched'] * merged_df['unit_cost_usd'].astype(float)\n",
        "total_ru_mad_cost = (attack_cost.sum()/1000000).round(0)\n",
        "\n",
        "# weekly_avg_launched\n",
        "weekly_avg_launched = total_launched / weeks_count\n",
        "\n",
        "# weekly_avg_cost\n",
        "weekly_avg_cost = (total_ru_mad_cost / weeks_count).round(0)\n",
        "\n",
        "# last_30days_launched\n",
        "merged_df['time_end'] = pd.to_datetime(merged_df['time_end'], format=\"mixed\")\n",
        "last_30days = merged_df[merged_df['time_end'] >= (pd.Timestamp(today) - pd.Timedelta(days=30))]\n",
        "last_30days_launched = last_30days['launched'].sum()\n",
        "\n",
        "# last_30days_cost\n",
        "last_30days_cost = ((last_30days['launched'] * last_30days['unit_cost_usd'].astype(float)).sum() / 1000000).round(0)"
      ]
    },
    {
      "cell_type": "code",
      "execution_count": 117,
      "metadata": {
        "id": "OPGV90Efr3Wh"
      },
      "outputs": [],
      "source": [
        "#@title v2 metrics_bar (html.Div)\n",
        "\n",
        "# prompt: Create metrics_bar2 = html.Div() which contains days_at_war, total_launched, total_ru_mad_cost, and last_30days_launched as four Cards horizontally adjacent (which \"share\" a common background and outline), with the descriptor in html.H6() and the variable in html.P() smaller font size.\n",
        "\n",
        "metrics_data = [{\n",
        "        #'days-at-war': days_at_war,  # Reference actual variable\n",
        "        'total-launched': total_launched,  # Reference actual variable\n",
        "        'total-cost': total_ru_mad_cost,  # Reference actual variable\n",
        "        'weekly-avg-launched': weekly_avg_launched,  # Reference actual variable\n",
        "        'weekly-avg-cost': weekly_avg_cost,  # Reference actual variable\n",
        "        'last-30days-launched': last_30days_launched,  # Reference actual variable\n",
        "        'last-30days-cost': last_30days_cost,  # Reference actual variable\n",
        "    }]\n",
        "\n",
        "metrics_bar4 = html.Div([\n",
        "    html.H4(\"Summary Metrics\"), # style={'textAlign': \"center\"}\n",
        "    dbc.Row([\n",
        "        dash_table.DataTable(\n",
        "            id='metrics-table',\n",
        "            columns=[\n",
        "                #dict(id='days-at-war', name=\"Days \\n at War\", type='numeric', format=Format().group(True)),\n",
        "                dict(id='total-launched', name=\"Total \\n Launched\", type='numeric', format=Format().group(True)),\n",
        "                dict(id='total-cost', name=\"Total Cost (US$M)\", type='numeric', format=Format().group(True)),\n",
        "                dict(id='weekly-avg-launched', name=\"Weekly Avg \\n Launched\", type='numeric', format=Format(precision=1, scheme=Scheme.fixed)),\n",
        "                dict(id='weekly-avg-cost', name=\"Weekly Avg \\n Cost (US$M)\", type='numeric', format=Format().group(True)),\n",
        "                dict(id='last-30days-launched', name=\"Last 30 Days Launched\", type='numeric', format=Format().group(True)),\n",
        "                dict(id='last-30days-cost', name=\"Last 30 Days \\n Cost (US$M)\", type='numeric', format=Format().group(True)),\n",
        "            ],\n",
        "            data=metrics_data,\n",
        "            style_header={\n",
        "                'backgroundColor': 'transparent',\n",
        "                'color': 'lightgray',\n",
        "                'fontWeight': 'bold',\n",
        "                'font-size': 14,\n",
        "                'border': 'none',\n",
        "                'textAlign': 'center',\n",
        "                'whiteSpace': 'pre-line',\n",
        "            },\n",
        "            style_table={\n",
        "                'overflowX': 'auto',\n",
        "                'border': 'none',\n",
        "                #'border-collapse': 'collapse',\n",
        "                'margin': 4,\n",
        "                'padding': '2% 1% 2% 0%'\n",
        "            },\n",
        "            style_data={\n",
        "                'backgroundColor': 'transparent',\n",
        "                'color': 'lightgray',\n",
        "                'border': 'none',\n",
        "            },\n",
        "            style_cell={\n",
        "                'fontSize': 14,\n",
        "                'textAlign': 'center',\n",
        "                'width': '16.7%',\n",
        "                'border': 'none',\n",
        "            },\n",
        "            style_header_conditional=[\n",
        "                {'if': {'column_id': ['total-launched', 'weekly-avg-launched', 'last-30days-launched']}, 'background-color': 'rgba(211, 211, 211, 0.2)'},\n",
        "                {'if': {'column_id': ['total-cost', 'weekly-avg-cost', 'last-30days-cost']}, 'background-color': 'rgba(211, 211, 211, 0.1)'}\n",
        "            ],\n",
        "            style_data_conditional=[\n",
        "                {'if': {'column_id': ['total-launched', 'weekly-avg-launched', 'last-30days-launched']}, 'background-color': 'rgba(211, 211, 211, 0.1)'},\n",
        "                #{'if': {'column_id': ['days-at-war', 'total-launched']}, 'background-color': 'rgba(211, 211, 211, 0.05)'}\n",
        "            ],\n",
        "        )\n",
        "    ]) # style={'border': '1px solid lightgray', 'margin': 4, 'padding': '2%'}\n",
        "])"
      ]
    },
    {
      "cell_type": "markdown",
      "metadata": {
        "id": "sRETBhcE9kob"
      },
      "source": [
        "#### DPX app: attack_size"
      ]
    },
    {
      "cell_type": "code",
      "execution_count": 143,
      "metadata": {
        "id": "RZxZuFAZ-pDp"
      },
      "outputs": [],
      "source": [
        "#@title attack_size_avg_data\n",
        "\n",
        "# prompt: Create launched_by_category by creating a df with end_date as the index, and columns of all in 'category', where the values are 'launched' (and fill any missing entries with 0).\n",
        "\n",
        "# Create attack_size_df and convert time_end datetime to date\n",
        "attack_size_df = merged_df.copy()\n",
        "attack_size_df['time_end'] = pd.to_datetime(attack_size_df['time_end'], format=\"mixed\").dt.date\n",
        "attack_size_df = attack_size_df.rename(columns={'time_end': 'end_date'})\n",
        "#attack_size_df['time_end'] = attack_size_df['time_end'].dt.strftime('%m-%d-%Y')\n",
        "\n",
        "# Create launched_by_category via pivot table\n",
        "launched_by_category = attack_size_df.pivot_table(index='end_date', columns='category', values='launched', aggfunc='sum', fill_value=0)\n",
        "launched_by_category['Avg Launched'] = launched_by_category.sum(axis=1)\n",
        "#launched_by_category.index = launched_by_category.index.date # converts time_end datetime to date (as index)\n",
        "launched_by_category.columns.name = None # removes pivot table level\n",
        "launched_by_category = pd.DataFrame(launched_by_category)\n",
        "\n",
        "# Create bins for daily 'launched' total counts\n",
        "bins = [0, 10, 50, 100, float('inf')]\n",
        "labels = ['<10', '10-49', '50-99', '100+']\n",
        "\n",
        "# Add column 'launched size' per bins\n",
        "launched_by_category['attack size'] = pd.cut(launched_by_category['Avg Launched'], bins=bins, labels=labels, right=False)\n",
        "\n",
        "# Create daily_average_launched_by_category\n",
        "daily_average_launched_by_category = launched_by_category.groupby('attack size', observed=False)['Avg Launched'].count().reset_index()\n",
        "daily_average_launched_by_category.columns = ['attack size', '# Attacks']\n",
        "means = launched_by_category.groupby(['attack size'], observed=False)[['UAV', 'cruise missile', 'ballistic missile', 'anti-air missile', 'aerial bomb', 'IRBM', 'Avg Launched']].mean().reset_index()\n",
        "means = means.round(1)\n",
        "daily_average_launched_by_category = means.merge(daily_average_launched_by_category, on='attack size', how='left')\n",
        "daily_average_launched_by_category_transposed = daily_average_launched_by_category.set_index('attack size').T.reset_index() # transpose df\n",
        "daily_average_launched_by_category_transposed = daily_average_launched_by_category_transposed.rename(columns={'index': 'attack size'})"
      ]
    },
    {
      "cell_type": "code",
      "execution_count": 145,
      "metadata": {
        "id": "Ye_6tWQ-G2Dv"
      },
      "outputs": [],
      "source": [
        "#@title attack_size_avg (html)\n",
        "\n",
        "from dash import dash_table, html\n",
        "from dash import dash_table\n",
        "from dash.dash_table.Format import Format, Group, Scheme\n",
        "\n",
        "# Define style for 'total' and '# attacks' rows\n",
        "total_style = {\n",
        "    'if': {\n",
        "        'filter_query': '{attack size} = \"Avg Launched\"',  # Filter for rows where category is '# attacks'\n",
        "        'column_id': (['attack size'] + list(daily_average_launched_by_category_transposed.columns))  # Apply across all columns\n",
        "    },\n",
        "    'backgroundColor': 'rgba(211, 211, 211, 0.05)',  # Set background color\n",
        "}\n",
        "\n",
        "num_attacks_style = {\n",
        "    'if': {\n",
        "        'filter_query': '{attack size} = \"# Attacks\"',  # Filter for rows where category is '# attacks'\n",
        "        'column_id': (['attack size'] + list(daily_average_launched_by_category_transposed.columns))  # Apply across all columns\n",
        "    },\n",
        "    'type': 'numeric', 'format': Format(precision=0, scheme=Scheme.fixed),  # Set float point\n",
        "    'backgroundColor': 'rgba(211, 211, 211, 0.05)',  # Set background color\n",
        "}\n",
        "\n",
        "\n",
        "\n",
        "# Define attack_size_avg DataTable\n",
        "attack_size_avg = html.Div([\n",
        "    html.H4(\"Avg Launched and # Attacks, by Size\", style={'margin-bottom': '12px'}),\n",
        "    dash_table.DataTable(\n",
        "        id='attack-size-avg',\n",
        "        columns=[{'id': c, 'name': c} for c in daily_average_launched_by_category_transposed.columns],\n",
        "        data=daily_average_launched_by_category_transposed.to_dict('records'),\n",
        "        style_header={\n",
        "            'backgroundColor': 'rgb(30, 30, 30)',\n",
        "            'color': 'lightgray',\n",
        "        },\n",
        "        style_data={\n",
        "            'backgroundColor': 'rgb(50, 50, 50)',\n",
        "            'color': 'lightgray',\n",
        "        },\n",
        "        style_table={\n",
        "            'overflowX': 'auto',\n",
        "            'width': '100%',\n",
        "        },\n",
        "        style_cell={'fontSize': 14, 'textAlign': 'center', 'width': '20%'},\n",
        "        style_cell_conditional=[\n",
        "            {'if': {'column_id': 'attack size'}, 'backgroundColor': 'rgb(30, 30, 30)'},\n",
        "            {'if': {'column_id': list(daily_average_launched_by_category_transposed.drop('attack size', axis=1).columns)}, 'type': 'numeric', 'format': Format(precision=1, scheme=Scheme.fixed)}\n",
        "        ],\n",
        "        style_data_conditional=[\n",
        "            total_style,\n",
        "            num_attacks_style\n",
        "        ],\n",
        "    )\n",
        "])"
      ]
    },
    {
      "cell_type": "code",
      "execution_count": 120,
      "metadata": {
        "id": "ZWxhU--tcZrV"
      },
      "outputs": [],
      "source": [
        "#@title attack_size_metrics (data)\n",
        "\n",
        "# attack_size_total\n",
        "attack_size_total = daily_average_launched_by_category['# Attacks'].sum()\n",
        "\n",
        "# attacks_per_week\n",
        "attacks_per_week = round(attack_size_total / weeks_count, 1)\n",
        "\n",
        "# avg_launched_per_attack\n",
        "avg_launched_per_attack = total_launched / attack_size_total"
      ]
    },
    {
      "cell_type": "code",
      "execution_count": 121,
      "metadata": {
        "id": "kWD6RaqkejqL"
      },
      "outputs": [],
      "source": [
        "#@title attack_size_metrics (html)\n",
        "\n",
        "attack_size_data = [{\n",
        "        'attack-size-total': attack_size_total,\n",
        "        'attacks-per-week': attacks_per_week,\n",
        "        'avg-launched-per-attack': avg_launched_per_attack,\n",
        "    }]\n",
        "\n",
        "attack_size_bar = html.Div([\n",
        "    #html.H4(\"Attack Size Metrics\"), # style={'textAlign': \"center\"} -- no title currently\n",
        "    dbc.Row([\n",
        "        dash_table.DataTable(\n",
        "            id='attack-size-bar',\n",
        "            columns=[\n",
        "                dict(id='attack-size-total', name=\"Total # Attacks\", type='numeric', format=Format().group(True)),\n",
        "                dict(id='attacks-per-week', name=\"Avg # Attacks \\n per Week\", type='numeric', format=Format(precision=1, scheme=Scheme.fixed)),\n",
        "                dict(id='avg-launched-per-attack', name=\"Avg Launched \\n per Attack\", type='numeric', format=Format(precision=1, scheme=Scheme.fixed)),\n",
        "            ],\n",
        "            data=attack_size_data,\n",
        "            style_header={\n",
        "                'backgroundColor': 'transparent',\n",
        "                'color': 'lightgray',\n",
        "                'fontWeight': 'bold',\n",
        "                'font-size': 14,\n",
        "                'border': 'none',\n",
        "                'textAlign': 'center',\n",
        "                'whiteSpace': 'pre-line',\n",
        "            },\n",
        "            style_table={\n",
        "                'overflowX': 'auto',\n",
        "                'border': 'none',\n",
        "                #'border-collapse': 'collapse',\n",
        "                'margin': 4,\n",
        "                'padding': '2% 1% 2% 0%'\n",
        "            },\n",
        "            style_data={\n",
        "                'backgroundColor': 'transparent',\n",
        "                'color': 'lightgray',\n",
        "                'border': 'none',\n",
        "            },\n",
        "            style_cell={\n",
        "                'fontSize': 14,\n",
        "                'textAlign': 'center',\n",
        "                'width': '16.7%',\n",
        "                'border': 'none',\n",
        "            },\n",
        "            style_header_conditional=[\n",
        "                {'if': {'column_id': ['attack-size-total', 'avg-launched-per-attack']}, 'background-color': 'rgba(211, 211, 211, 0.2)'},\n",
        "                {'if': {'column_id': ['attacks-per-week']}, 'background-color': 'rgba(211, 211, 211, 0.1)'}\n",
        "            ],\n",
        "            style_data_conditional=[\n",
        "                {'if': {'column_id': ['attack-size-total', 'avg-launched-per-attack']}, 'background-color': 'rgba(211, 211, 211, 0.1)'},\n",
        "            ],\n",
        "        )\n",
        "    ], style={'margin-top': '10px'})\n",
        "])"
      ]
    },
    {
      "cell_type": "markdown",
      "metadata": {
        "id": "IHXrSwITkexm"
      },
      "source": [
        "#### DPX app: ts_bar_chart"
      ]
    },
    {
      "cell_type": "code",
      "execution_count": 122,
      "metadata": {
        "id": "yrvW4QEEaV_h"
      },
      "outputs": [],
      "source": [
        "#@title #### dropdown_items (html)\n",
        "\n",
        "# range_dropdown\n",
        "range_dropdown = dbc.Col([\n",
        "    dbc.Row(html.Label(\"Range:\", style={'textAlign': 'center', 'fontWeight': 'bold', 'margin-bottom':1})),\n",
        "    dcc.Dropdown(\n",
        "        id='range-dropdown',\n",
        "        options=[{'label': val, 'value': val} for val in merged_df['range'].unique()],\n",
        "        value=merged_df['range'].unique().tolist(),\n",
        "        multi=True,\n",
        "        style={'background': '#3a3f44'},\n",
        "        #style={'display': 'block'}\n",
        "    )\n",
        "])\n",
        "\n",
        "# speed_dropdown\n",
        "speed_dropdown = dbc.Col([\n",
        "    dbc.Row(html.Label(\"Speed:\", style={'textAlign': 'center', 'fontWeight': 'bold', 'margin-bottom':1})),\n",
        "    dcc.Dropdown(\n",
        "        id='speed-dropdown',\n",
        "        options=[{'label': val, 'value': val} for val in merged_df['speed'].unique()],\n",
        "        value=merged_df['speed'].unique().tolist(),\n",
        "        multi=True,\n",
        "        style={'background': '#3a3f44'},\n",
        "        #style={'display': 'block'}\n",
        "    )\n",
        "])\n",
        "\n",
        "# altitude_dropdown\n",
        "altitude_dropdown = dbc.Col([\n",
        "    dbc.Row(html.Label(\"Altitude:\", style={'textAlign': 'center', 'fontWeight': 'bold', 'margin-bottom':1})),\n",
        "    dcc.Dropdown(\n",
        "        id='altitude-dropdown',\n",
        "        options=[{'label': val, 'value': val} for val in merged_df['altitude'].unique()],\n",
        "        value=merged_df['altitude'].unique().tolist(),\n",
        "        multi=True,\n",
        "        style={'background': '#3a3f44'},\n",
        "        #style={'display': 'block'}\n",
        "    )\n",
        "])"
      ]
    },
    {
      "cell_type": "code",
      "execution_count": 123,
      "metadata": {
        "collapsed": true,
        "id": "bWnIHYRebhcV"
      },
      "outputs": [],
      "source": [
        "#@title #### ts_bar_chart\n",
        "\n",
        "# prompt: From merged_df, create a Dash Plotly time series visualization with a stacked bar chart, and the data determined by the following radio button selections. The x-axis will be time as either week, month, quarter, or year selected by a radio button (default is month). The y-axis will be 'launched', 'hit', 'miss', or 'destroyed' as selected by a radio button (default is 'launched'). The stacks in the bar chart will be either 'category' or 'model' as selected by a radio button (default is 'category').\n",
        "\n",
        "#app = dash.Dash(__name__, external_stylesheets=[dbc.themes.SLATE])\n",
        "\n",
        "ts_bar_chart = html.Div([\n",
        "\n",
        "    # title\n",
        "    dbc.Row([html.H2(\"Time Series for Missile and Drone Attacks Against Ukraine\")]),\n",
        "\n",
        "    # first row - radio buttons\n",
        "    dbc.Row([\n",
        "\n",
        "        # time_period\n",
        "        dbc.Col([\n",
        "            dbc.Row(html.Label(\"Time Period:\", style={'textAlign': 'center', 'fontWeight': 'bold', 'margin-bottom':1})),\n",
        "            dbc.RadioItems(\n",
        "                id='time-period',\n",
        "                className=\"btn-group\",\n",
        "                inputClassName=\"btn-check\",\n",
        "                labelClassName=\"btn btn-outline-primary\",\n",
        "                labelCheckedClassName=\"active\",\n",
        "                options=[\n",
        "                    {'label': 'Week', 'value': 'W'},\n",
        "                    {'label': 'Month', 'value': 'M'},\n",
        "                    {'label': 'Quarter', 'value': 'Q'},\n",
        "                    {'label': 'Year', 'value': 'Y'}\n",
        "                ],\n",
        "                value='M'  # Default value\n",
        "            )\n",
        "        ]),\n",
        "\n",
        "        # yaxis\n",
        "        dbc.Col([\n",
        "            dbc.Row(html.Label(\"Y-axis:\", style={'textAlign': 'center', 'fontWeight': 'bold', 'margin-bottom':1})),\n",
        "            dbc.RadioItems(\n",
        "                id='y-axis-value',\n",
        "                className=\"btn-group\",\n",
        "                inputClassName=\"btn-check\",\n",
        "                labelClassName=\"btn btn-outline-primary\",\n",
        "                labelCheckedClassName=\"active\",\n",
        "                options=[\n",
        "                    {'label': 'Launched', 'value': 'launched'},\n",
        "                    {'label': 'Hit', 'value': 'hit'},\n",
        "                    {'label': 'Miss', 'value': 'miss'},\n",
        "                    {'label': 'Destroyed', 'value': 'destroyed'}\n",
        "                ],\n",
        "                value='launched' # Default value\n",
        "            )\n",
        "        ]),\n",
        "\n",
        "        # stacked_bar_feature\n",
        "        dbc.Col([\n",
        "            dbc.Row(html.Label(\"Stacked Bar Feature:\", style={'textAlign': 'center', 'fontWeight': 'bold', 'margin-bottom':1})),\n",
        "            dbc.RadioItems(\n",
        "                id='stacked-bar-feature',\n",
        "                className=\"btn-group\",\n",
        "                inputClassName=\"btn-check\",\n",
        "                labelClassName=\"btn btn-outline-primary\",\n",
        "                labelCheckedClassName=\"active\",\n",
        "                options=[\n",
        "                    {'label': 'Category', 'value': 'category'},\n",
        "                    {'label': 'Model', 'value': 'model'}\n",
        "                ],\n",
        "                value='category' # Default value\n",
        "            )\n",
        "        ]),\n",
        "\n",
        "        # yaxis2\n",
        "        dbc.Col([\n",
        "            dbc.Row(html.Label(\"Second Y-Axis:\", style={'textAlign': 'center', 'fontWeight': 'bold', 'margin-bottom':1})),\n",
        "            dbc.Checklist(\n",
        "                id='y-axis2-toggle',\n",
        "                options=[{'label': 'Launched', 'value': 'launched'}],\n",
        "                value=[],\n",
        "                className=\"btn-group\",\n",
        "                inputClassName=\"btn-check\",\n",
        "                labelClassName=\"btn btn-outline-primary\",\n",
        "                labelCheckedClassName=\"active\"\n",
        "            )\n",
        "        ])\n",
        "    ]),\n",
        "\n",
        "\n",
        "    # second row - radio buttons\n",
        "    dbc.Row([\n",
        "\n",
        "        # 'category' multiple-select buttons\n",
        "        dbc.Col([\n",
        "            html.H6(\"Category:\", style={'fontWeight': 'bold', 'display': 'inline-block', 'padding-top': '5px'}),\n",
        "            dbc.Checklist(\n",
        "                id='category-slice',\n",
        "                options=[{'label': category, 'value': category} for category in merged_df['category'].unique()],\n",
        "                value=merged_df['category'].unique().tolist(),  # Default: all categories selected\n",
        "                inline=True,  # Arrange options horizontally\n",
        "                className=\"btn-group\",\n",
        "                inputClassName=\"btn-check\",\n",
        "                labelClassName=\"btn btn-outline-secondary\",\n",
        "                labelCheckedClassName=\"active\"\n",
        "            ),\n",
        "        ], style={'padding-top': '10px', 'textAlign': 'center'}),\n",
        "\n",
        "    ]),\n",
        "\n",
        "    # third row - ts_bar_chart\n",
        "    dbc.Row([dcc.Graph(id='time-series-chart')]),\n",
        "\n",
        "\n",
        "    # fourth row - details dropdown checklists (toggle display off/on)\n",
        "    dbc.Row([\n",
        "        #dbc.Col(type_dropdown),\n",
        "        dbc.Col(range_dropdown),\n",
        "        dbc.Col(speed_dropdown),\n",
        "        dbc.Col(altitude_dropdown),\n",
        "    ], style={'margin-bottom': '30px', 'margin-left': '10px', 'margin-right': '10px'})\n",
        "\n",
        "], style={'margin-top': '5px'})"
      ]
    },
    {
      "cell_type": "markdown",
      "metadata": {
        "id": "d8fn26vneqBt"
      },
      "source": [
        "### DPX @app.callback(), app.layout(), and app.server -- combined"
      ]
    },
    {
      "cell_type": "code",
      "execution_count": 160,
      "metadata": {
        "colab": {
          "base_uri": "https://localhost:8080/",
          "height": 672
        },
        "id": "-Rh1ZyAqL8XG",
        "outputId": "de6a02e9-9dab-48df-a349-ca0d7087c4f2"
      },
      "outputs": [
        {
          "data": {
            "text/html": [
              "\n",
              "        <iframe\n",
              "            width=\"100%\"\n",
              "            height=\"650\"\n",
              "            src=\"http://127.0.0.1:8000/\"\n",
              "            frameborder=\"0\"\n",
              "            allowfullscreen\n",
              "            \n",
              "        ></iframe>\n",
              "        "
            ],
            "text/plain": [
              "<IPython.lib.display.IFrame at 0x120edc786e0>"
            ]
          },
          "metadata": {},
          "output_type": "display_data"
        }
      ],
      "source": [
        "# Define app\n",
        "app = dash.Dash(__name__, external_stylesheets=[dbc.themes.SLATE])\n",
        "\n",
        "#app.config['suppress_callback_exceptions'] = True # allow app.callbacks() generated by other callbacks\n",
        "app.config.suppress_callback_exceptions = True\n",
        "\n",
        "# ---------------------------------------------------------------------------\n",
        "\n",
        "# ts_bar_chart\n",
        "@app.callback(\n",
        "    Output('time-series-chart', 'figure'),\n",
        "    Input('time-period', 'value'),\n",
        "    Input('y-axis-value', 'value'),\n",
        "    Input('stacked-bar-feature', 'value'),\n",
        "    Input('y-axis2-toggle', 'value'),\n",
        "    Input('category-slice', 'value'),\n",
        "    #Input('details-toggle', 'value'),\n",
        "    #Input('type-dropdown', 'value'),\n",
        "    Input('range-dropdown', 'value'),\n",
        "    Input('speed-dropdown', 'value'),\n",
        "    Input('altitude-dropdown', 'value'),\n",
        ")\n",
        "def update_chart(time_period, y_axis_value, stacked_bar_feature, y_axis2, category_slice, selected_range, selected_speed, selected_altitude):\n",
        "    # Create a temp_df from merged_df\n",
        "    temp_df3 = merged_df.copy()\n",
        "\n",
        "    # If toggled-on details_dropdowns, then apply filters\n",
        "    #if '(show below)' in details_dropdown:\n",
        "\n",
        "    # Filter the data based on model details 'type', 'range', 'altitude', and 'speed'\n",
        "    #if selected_type:\n",
        "    #    temp_df3 = temp_df3[temp_df3['type'].isin(selected_type)]\n",
        "    if selected_range:\n",
        "        temp_df3 = temp_df3[temp_df3['range'].isin(selected_range)]\n",
        "    if selected_speed:\n",
        "        temp_df3 = temp_df3[temp_df3['speed'].isin(selected_speed)]\n",
        "    if selected_altitude:\n",
        "        temp_df3 = temp_df3[temp_df3['altitude'].isin(selected_altitude)]\n",
        "\n",
        "    # Add 'time_period' to temp_df3 (by resampling 'time_end')\n",
        "    temp_df3['time_end'] = pd.to_datetime(merged_df['time_end'], format=\"mixed\")\n",
        "    temp_df3['time_period'] = temp_df3['time_end'].dt.to_period(time_period)\n",
        "    temp_df3['time_period'] = temp_df3['time_period'].astype(str)\n",
        "\n",
        "    # 1. Generate complete time range\n",
        "    all_periods = pd.period_range(\n",
        "        start=temp_df3['time_end'].min(),\n",
        "        end=temp_df3['time_end'].max(),\n",
        "        freq=time_period\n",
        "    ).astype(str).tolist()\n",
        "\n",
        "    # Slice data (by category_slice) and groupby/sum (by stacked_bar_feature)\n",
        "    sliced_data = temp_df3[temp_df3['category'].isin(category_slice)].reset_index()\n",
        "    grouped_data = sliced_data.groupby(['time_period', stacked_bar_feature])[y_axis_value].sum().reset_index()\n",
        "\n",
        "    # 2. Reindex and fill missing values\n",
        "    # Create a MultiIndex from all_periods and unique stacking_category values\n",
        "    all_categories = grouped_data[stacked_bar_feature].unique()\n",
        "    full_index = pd.MultiIndex.from_product([all_periods, all_categories], names=['time_period', stacked_bar_feature])\n",
        "\n",
        "    # Reindex the grouped data\n",
        "    reindexed_data = grouped_data.set_index(['time_period', stacked_bar_feature]).reindex(full_index, fill_value=0).reset_index()\n",
        "\n",
        "    # 3. Create the stacked bar chart\n",
        "    fig = px.bar(\n",
        "        reindexed_data,\n",
        "        x='time_period',\n",
        "        y=y_axis_value,\n",
        "        color=stacked_bar_feature,\n",
        "        title=f\"{y_axis_value.capitalize()} by {stacked_bar_feature.capitalize()} over Time\",\n",
        "        barmode=\"stack\"\n",
        "    )\n",
        "\n",
        "    fig.update_layout(\n",
        "        font_color=\"gray\",\n",
        "        paper_bgcolor='rgba(0,0,0,0)',\n",
        "        plot_bgcolor='rgba(0,0,0,0)',\n",
        "        xaxis_title=None,\n",
        "        legend=dict(\n",
        "            orientation=\"h\",\n",
        "            yanchor=\"bottom\",\n",
        "            y=-0.2,  # Adjust this value to fine-tune the legend's position\n",
        "            xanchor=\"center\",\n",
        "            x=0.5  # Adjust this value to fine-tune the legend's position\n",
        "        )\n",
        "    )\n",
        "\n",
        "    # 4. Create a line chart from the second axis for 'launched' (if y_axis_value not 'launched')\n",
        "    if 'launched' in y_axis2:\n",
        "\n",
        "        launched_data = temp_df3.groupby('time_period')['launched'].sum().reset_index()\n",
        "        #yaxis2_range = [0, launched_data['launched'].max()]\n",
        "\n",
        "        fig.add_scatter(\n",
        "            x=launched_data['time_period'],\n",
        "            y=launched_data['launched'],\n",
        "            mode='lines',\n",
        "            name='launched',\n",
        "            yaxis='y2',\n",
        "            line=dict(color='red')\n",
        "        )\n",
        "\n",
        "        fig.update_layout(\n",
        "            #yaxis=dict(\n",
        "            #    range=yaxis2_range\n",
        "            #),\n",
        "            yaxis2=dict(\n",
        "                title='launched',\n",
        "                title_font=dict(color='red'),\n",
        "                overlaying='y',\n",
        "                side='right',\n",
        "                matches='y',\n",
        "                #range=yaxis2_range,\n",
        "                showgrid=False,\n",
        "                #gridcolor='gray',\n",
        "                #griddash='dot',\n",
        "                tickfont=dict(color='red'),\n",
        "            ),\n",
        "        )\n",
        "\n",
        "    # 5. Adjust legend\n",
        "\n",
        "    # Remove if time_period is 'W'\n",
        "    if time_period == 'W':\n",
        "        fig.update_layout(\n",
        "            showlegend=False\n",
        "        )\n",
        "\n",
        "    # Space further down on y-axis if Stacked Bar Feature is 'model'\n",
        "    if stacked_bar_feature == 'model':\n",
        "        fig.update_layout(\n",
        "            legend=dict(\n",
        "                y=-0.4\n",
        "            )\n",
        "        )\n",
        "\n",
        "    # 6. Update details-dropdown\n",
        "\n",
        "\n",
        "    return fig\n",
        "\n",
        "\n",
        "# ---------------------------------------------------------------------------\n",
        "\n",
        "# details_table\n",
        "@app.callback(\n",
        "    Output('details-table', 'sort_by'),\n",
        "    Input('reset-sorting-btn', 'n_clicks'),\n",
        "    #State('details-table', 'sort_by') # the 'Reset Sorting' button doesn't work with State active\n",
        ")\n",
        "def reset_sorting(n_clicks):\n",
        "    if n_clicks:\n",
        "        return []  # Reset sort_by to an empty list to clear sorting\n",
        "    return dash.no_update  # Don't update if button hasn't been clicked\n",
        "\n",
        "\n",
        "# ---------------------------------------------------------------------------\n",
        "\n",
        "ru_ua_title = \"Russian Missile and Drone Attacks against Ukraine\"\n",
        "\n",
        "# app.layout\n",
        "app.layout = html.Div([\n",
        "    html.H1(ru_ua_title),\n",
        "    dbc.Row([\n",
        "        dbc.Col([intro_text], width=2),\n",
        "        dbc.Col([\n",
        "            dbc.Row([metrics_bar4], className='pt-0 pb-6 pl-2 pr-2'),\n",
        "            dbc.Row([attacks_table], className='pt-6'),\n",
        "            ], width=6, style={'margin-top':15}),\n",
        "        dbc.Col([\n",
        "            dbc.Row([attack_size_avg], className='pt-6 pb-0 pl-2 pr-2'),\n",
        "            dbc.Row([attack_size_bar], className='pb-3'),\n",
        "            ], width=4, style={'margin-top':15}),\n",
        "    ], style={'background-color': 'rgba(211, 211, 211, 0.05)'}),\n",
        "    dbc.Row([\n",
        "        ts_bar_chart\n",
        "    ], style={'margin-top': 4}),\n",
        "    dbc.Row([\n",
        "        details_table\n",
        "    ], style={'background-color': 'rgba(211, 211, 211, 0.05)'})\n",
        "])\n",
        "\n",
        "if __name__ == '__main__':\n",
        "    app.run_server(debug=True, port=8000)"
      ]
    },
    {
      "cell_type": "code",
      "execution_count": 152,
      "metadata": {},
      "outputs": [],
      "source": [
        "# Install shot-scraper and headless browser (for screenshot)\n",
        "\n",
        "!pip install shot-scraper --quiet\n",
        "!shot-scraper install"
      ]
    },
    {
      "cell_type": "code",
      "execution_count": 161,
      "metadata": {},
      "outputs": [
        {
          "name": "stderr",
          "output_type": "stream",
          "text": [
            "Screenshot of 'http://127.0.0.1:8000/' written to 'ua5_ru_weapons.png'\n"
          ]
        }
      ],
      "source": [
        "# Capture/save screenshot via shot-scraper (of Dash app at served host and port)\n",
        "!shot-scraper http://127.0.0.1:8000/ --wait 3000 -o ua5_ru_weapons.png"
      ]
    }
  ],
  "metadata": {
    "colab": {
      "provenance": []
    },
    "kernelspec": {
      "display_name": ".venv",
      "language": "python",
      "name": "python3"
    },
    "language_info": {
      "codemirror_mode": {
        "name": "ipython",
        "version": 3
      },
      "file_extension": ".py",
      "mimetype": "text/x-python",
      "name": "python",
      "nbconvert_exporter": "python",
      "pygments_lexer": "ipython3",
      "version": "3.13.0"
    }
  },
  "nbformat": 4,
  "nbformat_minor": 0
}
