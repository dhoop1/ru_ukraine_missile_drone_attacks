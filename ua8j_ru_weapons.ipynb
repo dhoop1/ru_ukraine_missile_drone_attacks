{
  "cells": [
    {
      "cell_type": "markdown",
      "metadata": {
        "id": "k_JCupk2QDjP"
      },
      "source": [
        "## Access Kaggle API and upload .csv datasets into CoLab"
      ]
    },
    {
      "cell_type": "code",
      "execution_count": 47,
      "metadata": {
        "colab": {
          "base_uri": "https://localhost:8080/"
        },
        "id": "BnAupXoFQs9F",
        "outputId": "52bea516-5bbc-42ab-9330-93a32b7c9ceb"
      },
      "outputs": [
        {
          "name": "stdout",
          "output_type": "stream",
          "text": [
            "Dataset URL: https://www.kaggle.com/datasets/piterfm/massive-missile-attacks-on-ukraine\n",
            "License(s): CC-BY-NC-SA-4.0\n",
            "Downloading massive-missile-attacks-on-ukraine.zip to c:\\Users\\dihoo\\.vscode\\ru_ukraine_missile_drone_attacks\n",
            "\n"
          ]
        },
        {
          "name": "stderr",
          "output_type": "stream",
          "text": [
            "\n",
            "  0%|          | 0.00/77.9k [00:00<?, ?B/s]\n",
            "100%|██████████| 77.9k/77.9k [00:00<00:00, 2.15MB/s]\n"
          ]
        }
      ],
      "source": [
        "#@title ### Access Kaggle datasets for Ukraine missile/UAV attacks\n",
        "\n",
        "!pip install kaggle --quiet\n",
        "!kaggle datasets download piterfm/massive-missile-attacks-on-ukraine --force"
      ]
    },
    {
      "cell_type": "code",
      "execution_count": 48,
      "metadata": {
        "id": "MOCWrrvGiWkh"
      },
      "outputs": [],
      "source": [
        "!pip install zipfile36 --quiet"
      ]
    },
    {
      "cell_type": "code",
      "execution_count": 49,
      "metadata": {
        "id": "fNI-Xib2Q1qB"
      },
      "outputs": [],
      "source": [
        "#@title ### Unzip datasets (into .csv files)\n",
        "\n",
        "import zipfile36 as zipfile\n",
        "\n",
        "with zipfile.ZipFile(\"massive-missile-attacks-on-ukraine.zip\", \"r\") as file:\n",
        "    file.extractall(\"attacks\")"
      ]
    },
    {
      "cell_type": "markdown",
      "metadata": {
        "id": "zt8w2hPhRCfo"
      },
      "source": [
        "## Data Preparation"
      ]
    },
    {
      "cell_type": "code",
      "execution_count": 50,
      "metadata": {
        "id": "mNdN6bOsiWki"
      },
      "outputs": [],
      "source": [
        "#@title ### Install modules\n",
        "\n",
        "!pip install pandas numpy tabulate --quiet"
      ]
    },
    {
      "cell_type": "code",
      "execution_count": 51,
      "metadata": {
        "id": "_sn_22I9RATb"
      },
      "outputs": [],
      "source": [
        "#@title ### Convert .csv files to DataFrames\n",
        "\n",
        "import pandas as pd\n",
        "import numpy as np\n",
        "from tabulate import tabulate\n",
        "\n",
        "pd.options.display.max_rows = 10\n",
        "pd.options.display.float_format = \"{:,.1f}\".format\n",
        "\n",
        "# Read 'missile_attacks_daily' csv and create attacks_df\n",
        "attacks_df_orig = pd.read_csv(\"attacks/missile_attacks_daily.csv\", header=0) # keep as original for comparison/reference\n",
        "attacks_df = attacks_df_orig.copy() # create as working df\n",
        "\n",
        "# Fillna() in attacks_df and set float dtypes\n",
        "numeric_cols = attacks_df.select_dtypes(include=np.number)\n",
        "attacks_df[numeric_cols.columns] = numeric_cols.fillna(0) # fill NaN with 0 for numeric cols\n",
        "attacks_df[numeric_cols.columns] = attacks_df[numeric_cols.columns].astype('float') # set numeric cols to float dtypes\n",
        "non_numeric_cols = attacks_df.select_dtypes(exclude=np.number)\n",
        "attacks_df[non_numeric_cols.columns] = non_numeric_cols.fillna(\"\") # fill NaN with \"\" for non-numeric cols\n",
        "\n",
        "# Read 'missiles_and_uav' csv and create details0_df\n",
        "details0_df_orig = pd.read_csv(\"attacks/missiles_and_uav.csv\", header=0) # keep as original for comparison/reference\n",
        "details0_df = details0_df_orig.copy()\n",
        "\n",
        "model_list = attacks_df[\"model\"].unique()\n",
        "model_count = attacks_df[\"model\"].value_counts()"
      ]
    },
    {
      "cell_type": "code",
      "execution_count": null,
      "metadata": {},
      "outputs": [],
      "source": [
        "#@title ### Create kaggle_last_updated (date)\n",
        "\n",
        "# Create kaggle_last_updated variable for the date that the kaggle dataset was last updated\n",
        "import zipfile\n",
        "import datetime\n",
        "with zipfile.ZipFile(\"massive-missile-attacks-on-ukraine.zip\", \"r\") as zip_ref:\n",
        "    for file_info in zip_ref.infolist():\n",
        "       kaggle_info_date = file_info.date_time\n",
        "\n",
        "kaggle_last_updated = datetime.date(kaggle_info_date[0], kaggle_info_date[1], kaggle_info_date[2])\n",
        "kaggle_last_updated_str = kaggle_last_updated.strftime(\"%m/%d/%Y\")"
      ]
    },
    {
      "cell_type": "code",
      "execution_count": 52,
      "metadata": {
        "id": "UfFZP18_iWkk"
      },
      "outputs": [],
      "source": [
        "#@title ### Early One-off Corrections\n",
        "\n",
        "# add correct 'source' for 12/27-12/28 2024 attack\n",
        "attacks_df_orig.loc[(attacks_df_orig['time_start']==\"2024-12-27 23:00\") & (attacks_df_orig['time_end']==\"2024-12-28 08:30\"), 'source'] = \"kpszsu/posts/pfbid0HXuzCiwVcdjqxxtzKYADAdQjcLhjGEDhhbXTftMr6NshdikKmET3LFWJePHCCg2Cl\"\n",
        "attacks_df.loc[(attacks_df['time_start']==\"2024-12-27 23:00\") & (attacks_df['time_end']==\"2024-12-28 08:30\"), 'source'] = \"kpszsu/posts/pfbid0HXuzCiwVcdjqxxtzKYADAdQjcLhjGEDhhbXTftMr6NshdikKmET3LFWJePHCCg2Cl\""
      ]
    },
    {
      "cell_type": "markdown",
      "metadata": {
        "id": "PqpAr2LdO83S"
      },
      "source": [
        "### Set-up Google Sheets Access"
      ]
    },
    {
      "cell_type": "code",
      "execution_count": 53,
      "metadata": {
        "id": "OTv0z8G6iWkl"
      },
      "outputs": [],
      "source": [
        "!pip install gspread --quiet"
      ]
    },
    {
      "cell_type": "code",
      "execution_count": 54,
      "metadata": {
        "id": "AaUcdSMfiWkl"
      },
      "outputs": [],
      "source": [
        "#@title #### Authorize gspread as gc\n",
        "\n",
        "import gspread\n",
        "import os\n",
        "\n",
        "# Authorize gspread with Google Cloud API (per https://docs.gspread.org/en/v6.1.3/oauth2.html#enable-api-access-for-a-project)\n",
        "\n",
        "if os.environ.get(\"GOOGLE_KAGGLE_CREDENTIALS\") is None:\n",
        "\n",
        "    # gspread auth method for VS Code desktop -- requires GC service_account.json in APPDATA\n",
        "    gc = gspread.service_account()\n",
        "\n",
        "else:\n",
        "    # gspread auth method for Codespaces -- requires GC service_account.json as value in GitHub 'ru_ukraine_missile_drone_attacks' repo Secrets\n",
        "    credentials = eval(os.environ.get(\"GOOGLE_KAGGLE_CREDENTIALS\"))\n",
        "    gc = gspread.service_account_from_dict(credentials)"
      ]
    },
    {
      "cell_type": "code",
      "execution_count": 55,
      "metadata": {
        "colab": {
          "base_uri": "https://localhost:8080/"
        },
        "id": "tgOkItzWHuKz",
        "outputId": "a62f1a2e-2e55-49bb-f024-2043374a0575"
      },
      "outputs": [
        {
          "data": {
            "text/plain": [
              "{'spreadsheetId': '1Zs705hRN7HfUOOhTZN2nNIPB6SAeKaxU1AQAkGZinzk',\n",
              " 'updatedRange': 'missile_attacks_daily!A1:P2019',\n",
              " 'updatedRows': 2019,\n",
              " 'updatedColumns': 16,\n",
              " 'updatedCells': 32304}"
            ]
          },
          "execution_count": 55,
          "metadata": {},
          "output_type": "execute_result"
        }
      ],
      "source": [
        "#@title #### Update 'pitferm_kaggle_ru_ukraine_attacks' worksheet with cleaned 'attacks_df' data\n",
        "\n",
        "# Select worksheet from 'pitferm_kaggle_ru_ukraine_attacks' spreadsheet\n",
        "mad_ref = gc.open('pitferm_kaggle_ru_ukraine_attacks').worksheet('missile_attacks_daily')\n",
        "\n",
        "# Clear selected worksheet\n",
        "mad_ref.clear()\n",
        "\n",
        "# Import 'missile_attacks_daily' (from cleaned attacks_df) into gworksheet\n",
        "mad_upload = attacks_df.copy()\n",
        "mad_ref.update([mad_upload.columns.values.tolist()] + mad_upload.values.tolist())"
      ]
    },
    {
      "cell_type": "code",
      "execution_count": null,
      "metadata": {},
      "outputs": [],
      "source": [
        "#@title #### Update 'pitferm_kaggle_ru_ukraine_attacks' Introduction worksheet with kaggle_last_updated date\n",
        "\n",
        "# Create var for Introduction worksheet\n",
        "intro_ref = gc.open('pitferm_kaggle_ru_ukraine_attacks').worksheet('Introduction')\n",
        "\n",
        "# Index row and column (using contents cells)\n",
        "cell_last_updated = intro_ref.find(\"Last Updated\")\n",
        "cell_mad = intro_ref.find(\"missile_attacks_daily\")\n",
        "\n",
        "# Update cell at indexed coordinates with kaggle_last_updated\n",
        "intro_ref.update_cell(cell_mad.row, cell_last_updated.col, kaggle_last_updated_str)"
      ]
    },
    {
      "cell_type": "markdown",
      "metadata": {
        "id": "mANa_X3ZRcg8"
      },
      "source": [
        "## Data-cleaning"
      ]
    },
    {
      "cell_type": "code",
      "execution_count": 56,
      "metadata": {
        "id": "_nbSImYNRdnl"
      },
      "outputs": [],
      "source": [
        "#@title ### Create new columns in attacks_df\n",
        "\n",
        "# 'model_orig' and new 'model' (blank for now)\n",
        "if 'model_orig' not in attacks_df.columns:\n",
        "  attacks_df.rename(columns={'model':'model_orig'}, inplace=True)\n",
        "  attacks_df['model'] = '' * len(attacks_df.index)\n",
        "\n",
        "# 'diverged' and 'returned'\n",
        "attacks_df['diverged'] = attacks_df['not_reach_goal']\n",
        "attacks_df['returned'] = attacks_df['cross_border_belarus'] + attacks_df['back_russia']\n",
        "\n",
        "# 'hit' and 'miss'\n",
        "sub_miss = attacks_df['destroyed'] + attacks_df['diverged'] + attacks_df['returned']\n",
        "attacks_df['miss'] = sub_miss + (attacks_df['still_attacking'] * (sub_miss / attacks_df['launched'])).round()\n",
        "attacks_df['hit'] = attacks_df['launched'] - attacks_df['miss']\n",
        "\n",
        "# 'destroyed_rate' and 'miss_rate'\n",
        "attacks_df['destroyed_rate'] = (attacks_df['destroyed'] / attacks_df['launched']).round(2)\n",
        "attacks_df['miss_rate'] = (attacks_df['miss'] / attacks_df['launched']).round(2)"
      ]
    },
    {
      "cell_type": "code",
      "execution_count": 57,
      "metadata": {
        "id": "5ERfE3PPRgVd"
      },
      "outputs": [],
      "source": [
        "#@title ### Create simplified cmodel_df (for data-cleaning)\n",
        "\n",
        "# Original (as source record)\n",
        "cmodel_df_orig = attacks_df.loc[:, ('time_start', 'time_end', 'model_orig', 'model', 'launched', 'destroyed', 'hit', 'miss', 'destroyed_rate', 'miss_rate')].copy()\n",
        "#cmodel_df_orig[['launched', 'destroyed', 'not_reach_goal']] = cmodel_df_orig[['launched', 'destroyed', 'not_reach_goal']].astype('float') # Set dtypes for 'launched' and 'destroyed' to float\n",
        "\n",
        "# Working (for clean-up)\n",
        "cmodel_df = cmodel_df_orig.copy()"
      ]
    },
    {
      "cell_type": "markdown",
      "metadata": {
        "id": "M3dy-m0xnZWH"
      },
      "source": [
        "### Conduct 'Data Cleaning' on dfs using Google Sheets inputs"
      ]
    },
    {
      "cell_type": "markdown",
      "metadata": {
        "id": "kvO4LFA0jLP_"
      },
      "source": [
        "#### Clean-up: Reassign"
      ]
    },
    {
      "cell_type": "code",
      "execution_count": 58,
      "metadata": {
        "colab": {
          "base_uri": "https://localhost:8080/"
        },
        "id": "ZgPiEYsCVpLC",
        "outputId": "4bf38f87-67a0-4d0d-94f6-fde42601f410"
      },
      "outputs": [
        {
          "name": "stdout",
          "output_type": "stream",
          "text": [
            "Index(['model_orig', 'model', 'alt_type', 'alt', 'alt_code'], dtype='object')\n"
          ]
        }
      ],
      "source": [
        "#@title ##### Consolidate data for 'Reassign\" clean-up\n",
        "\n",
        "# Create 'reassign_df' with re-formatted index, and drop 'mod_o_count' and 'note' columns\n",
        "reassign = gc.open('pitferm_kaggle_ru_ukraine_attacks').worksheet('reassign')\n",
        "reassign_df = pd.DataFrame(reassign.get_all_values(), columns=reassign.row_values(1))\n",
        "reassign_df = reassign_df.iloc[1:, :-2].reset_index(inplace=False, drop=True) # remove duplicate header row and drop last 2 columns\n",
        "\n",
        "# Create three sub-df's from the 'reassign' gworksheet\n",
        "reassign_dfa = reassign_df.iloc[:, [0,1,2,3]].copy() # model_orig entries to update in cmodel, to label with \"u\" 'alt_code'\n",
        "reassign_dfb = reassign_df[reassign_df['model_new_2']!=\"\"].iloc[:, [0,4,5,6]] # split entries to insert into cmodel, to label with \"i\" alt_code\n",
        "reassign_dfc = reassign_df[reassign_df['model_new_3']!=\"\"].iloc[:, [0,7,8,9]] # more split entries to insert into cmodel, to label with \"i\" alt_code\n",
        "\n",
        "# List of df's, and list of new/synchronized column names\n",
        "rconcat = [reassign_dfa, reassign_dfb, reassign_dfc]\n",
        "ncols = ['model_orig', 'model', 'alt_type', 'alt', 'alt_code']\n",
        "\n",
        "# Iterate over the df's, specifying 'alt_code' column and renaming columns\n",
        "for i, df in enumerate(rconcat):\n",
        "  if len(df)==len(reassign_dfa):\n",
        "    df['alt_code']='u'\n",
        "  else:\n",
        "    df['alt_code']='i'\n",
        "  df.columns = ncols\n",
        "\n",
        "# Concat sub-df's into one df\n",
        "reassign_dfn = pd.concat(rconcat, ignore_index=True)\n",
        "\n",
        "# Convert alt column type to float\n",
        "reassign_dfn[['alt']] = reassign_dfn[['alt']].astype('float')\n",
        "\n",
        "print(reassign_dfn.columns)"
      ]
    },
    {
      "cell_type": "code",
      "execution_count": 59,
      "metadata": {
        "id": "TUN5kMbd1cXN"
      },
      "outputs": [],
      "source": [
        "#@title ##### Clean-up: v3 Reassign (via df logic, using \"consolidated\" reassign data)\n",
        "\n",
        "re_ll2 = []\n",
        "\n",
        "# Iterate over rows in reassign_dfn\n",
        "for i, row in reassign_dfn.iterrows():\n",
        "\n",
        "  # Triage with if statements by alt_code\n",
        "\n",
        "  # Check entry for \"i\" alt_code, and if so create sub_df (from cmodel_df) to modify and append to re_ll2\n",
        "  if row.alt_code == \"i\":\n",
        "      sub_df = cmodel_df_orig.loc[cmodel_df_orig['model_orig']==row.model_orig].copy() # referencing cmodel_df_orig (to avoid any changes from already looped cmodel_df entries)\n",
        "      sub_df.loc[sub_df['model_orig']==row.model_orig, 'model'] = row.model\n",
        "\n",
        "      if row.alt_type == \"*=\": # just a formality\n",
        "        sub_df.loc[sub_df['model_orig']==row.model_orig, ['launched', 'destroyed', 'hit', 'miss', 'miss_rate', 'destroyed_rate']] *= row.alt\n",
        "        sub_df[['launched', 'destroyed', 'hit', 'miss']] = sub_df[['launched', 'destroyed', 'hit', 'miss']].round(0)\n",
        "        sub_df[['miss_rate', 'destroyed_rate']] = sub_df[['miss_rate', 'destroyed_rate']].round(2)\n",
        "\n",
        "      re_ll2.append(sub_df)\n",
        "\n",
        "  # Then check entry for \"u\" alt_code, and if so update cmodel_df according to alt_type and l_/d_alt\n",
        "  if row.alt_code == \"u\":\n",
        "      cmodel_df.loc[cmodel_df['model_orig']==row.model_orig, 'model'] = row.model\n",
        "\n",
        "      if row.alt_type == \"*=\": # just a formality\n",
        "        cmodel_df.loc[cmodel_df['model_orig']==row.model_orig, ['launched', 'destroyed', 'hit', 'miss', 'miss_rate', 'destroyed_rate']] *= row.alt\n",
        "        cmodel_df[['launched', 'destroyed', 'hit', 'miss']] = cmodel_df[['launched', 'destroyed', 'hit', 'miss']].round(0)\n",
        "        cmodel_df[['miss_rate', 'destroyed_rate']] = cmodel_df[['miss_rate', 'destroyed_rate']].round(2)"
      ]
    },
    {
      "cell_type": "code",
      "execution_count": 60,
      "metadata": {
        "colab": {
          "base_uri": "https://localhost:8080/"
        },
        "collapsed": true,
        "id": "J8lDpJHCfZoI",
        "outputId": "94271ca7-7504-4330-b52a-7406d5f75899"
      },
      "outputs": [
        {
          "name": "stdout",
          "output_type": "stream",
          "text": [
            "Concat complete.\n"
          ]
        }
      ],
      "source": [
        "#@title ##### Convert re_ll2 to re_df2 and concat to cmodel_df\n",
        "\n",
        "# Drop indices from dfs in re_ll2\n",
        "for dfr in re_ll2:\n",
        "    dfr = dfr.reset_index(drop=True, inplace=True)\n",
        "\n",
        "# Concat re_ll2 into re_df2\n",
        "re_df2 = pd.concat(re_ll2)\n",
        "\n",
        "# Concat re_df2 into cmodel_df\n",
        "cmodel_df = pd.concat([cmodel_df, re_df2], ignore_index=True)\n",
        "\n",
        "print(\"Concat complete.\")"
      ]
    },
    {
      "cell_type": "markdown",
      "metadata": {
        "id": "ptl_aWNOm8ac"
      },
      "source": [
        "#### Clean-up: Aggregate"
      ]
    },
    {
      "cell_type": "code",
      "execution_count": 61,
      "metadata": {
        "id": "OJxUdkdZGi_a"
      },
      "outputs": [],
      "source": [
        "# Create agg_df from gworksheet 'aggregate', and drop 'note' column\n",
        "agg = gc.open('pitferm_kaggle_ru_ukraine_attacks').worksheet('aggregate')\n",
        "agg_df = pd.DataFrame(agg.get_all_values(), columns=agg.row_values(1))\n",
        "agg_df = agg_df.iloc[1:, :-1].reset_index(inplace=False, drop=True) # remove duplicate header row and drop last column\n",
        "\n",
        "for ia, rowa in agg_df.iterrows():\n",
        "    cmodel_df.loc[cmodel_df['model_orig']==rowa.model_orig_1, 'model'] = rowa.model\n",
        "    cmodel_df.loc[cmodel_df['model_orig']==rowa.model_orig_2, 'model'] = rowa.model"
      ]
    },
    {
      "cell_type": "markdown",
      "metadata": {
        "id": "-ruDp-WqnBUh"
      },
      "source": [
        "#### Clean-up: Modify v2"
      ]
    },
    {
      "cell_type": "code",
      "execution_count": 62,
      "metadata": {
        "colab": {
          "base_uri": "https://localhost:8080/"
        },
        "id": "bMMsMqOsJBpf",
        "outputId": "c2827da0-d0d6-497b-cc5d-0e67a6bc1b2f"
      },
      "outputs": [
        {
          "name": "stdout",
          "output_type": "stream",
          "text": [
            "Actions and concat complete.\n"
          ]
        }
      ],
      "source": [
        "# Create mdfy_df from gworksheet 'modify', drop last three columns, and update dtypes\n",
        "mdfy = gc.open('pitferm_kaggle_ru_ukraine_attacks').worksheet('modify')\n",
        "mdfy_df = pd.DataFrame(mdfy.get_all_values(), columns=mdfy.row_values(1))\n",
        "mdfy_df = mdfy_df.iloc[1:, :-6].reset_index(inplace=False, drop=True) # remove duplicate header row and drop last six columns\n",
        "mdfy_df[['launched', 'destroyed', 'hit', 'miss']] = mdfy_df[['launched', 'destroyed', 'hit', 'miss']].astype('float') # set mdfy_df 'launched' and 'destroyed' dtypes to float\n",
        "\n",
        "# Create empty list (for sub_dfs to append)\n",
        "m_ll = []\n",
        "\n",
        "# Iterate over rows in mdfy_df per conditions and perform following actions\n",
        "for im, rowm in mdfy_df.iterrows():\n",
        "\n",
        "  if rowm.modified == \"1\": # 'model' has already been assigned and can be referenced\n",
        "      cmodel_df.loc[(cmodel_df['time_end']==rowm.time_end) & (cmodel_df['model']==rowm.model), ['launched', 'destroyed', 'hit' ,'miss']] = [rowm.launched, rowm.destroyed, rowm.hit, rowm.miss]\n",
        "      cmodel_df.loc[(cmodel_df['time_end']==rowm.time_end) & (cmodel_df['model']==rowm.model), ['miss_rate', 'destroyed_rate']] = [rowm.miss / rowm.launched, rowm.destroyed / rowm.launched] # split out from above for readability\n",
        "\n",
        "  if rowm.modified == \"0\": # 'model' not yet assigned, thus reference 'model_orig'\n",
        "      if rowm.alt_code == \"i\": # create and update subm_df to append/insert into cmodel_df\n",
        "          subm_df = cmodel_df.loc[(cmodel_df['time_end']==rowm.time_end) & (cmodel_df['model_orig']==rowm.model_orig)].copy()\n",
        "          subm_df[['model', 'launched', 'destroyed', 'hit' ,'miss']] = [rowm.model, rowm.launched, rowm.destroyed, rowm.hit, rowm.miss]\n",
        "          sub_df[['miss_rate', 'destroyed_rate']] = [rowm.miss / rowm.launched, rowm.destroyed / rowm.launched] # split out from row above for readability\n",
        "          m_ll.append(subm_df)\n",
        "      elif rowm.alt_code == \"u\": # update cmodel_df\n",
        "          cmodel_df.loc[(cmodel_df['time_end']==rowm.time_end) & (cmodel_df['model_orig']==rowm.model_orig), ['launched', 'destroyed', 'hit' ,'miss']] = [rowm.launched, rowm.destroyed, rowm.hit, rowm.miss]\n",
        "          cmodel_df.loc[(cmodel_df['time_end']==rowm.time_end) & (cmodel_df['model_orig']==rowm.model_orig), ['miss_rate', 'destroyed_rate']] = [rowm.miss / rowm.launched, rowm.destroyed / rowm.launched]\n",
        "\n",
        "# Convert and concat/append mdfy_ll into cmodel_df\n",
        "for dfm in m_ll:\n",
        "    dfm = dfm.reset_index(drop=True, inplace=True)\n",
        "\n",
        "m_df = pd.concat(m_ll)\n",
        "\n",
        "cmodel_df = pd.concat([cmodel_df, m_df], ignore_index=True)\n",
        "\n",
        "print(\"Actions and concat complete.\")"
      ]
    },
    {
      "cell_type": "markdown",
      "metadata": {
        "id": "LdEz2ViCnO4S"
      },
      "source": [
        "### Clean-up: Final steps"
      ]
    },
    {
      "cell_type": "code",
      "execution_count": 63,
      "metadata": {
        "colab": {
          "base_uri": "https://localhost:8080/"
        },
        "id": "iBlWDv2ErekE",
        "outputId": "a8d11533-f086-4d96-9995-aaef13e5b009"
      },
      "outputs": [
        {
          "name": "stdout",
          "output_type": "stream",
          "text": [
            "Successfully added 'model' to other entries.\n"
          ]
        }
      ],
      "source": [
        "#@title ### Clean-up: Add 'model' for unmodified entries\n",
        "\n",
        "modified_entries = cmodel_df.loc[cmodel_df['model']!=\"\"].index\n",
        "model_check = cmodel_df.loc[cmodel_df['model']!=\"\", 'model'].copy()\n",
        "\n",
        "cmodel_df.loc[cmodel_df['model']==\"\", 'model'] = cmodel_df.loc[cmodel_df['model']==\"\", 'model_orig']\n",
        "\n",
        "if cmodel_df.loc[modified_entries, 'model'].to_list() == model_check.to_list():\n",
        "  print(\"Successfully added 'model' to other entries.\")\n",
        "else:\n",
        "  print(\"Possible error and/or over-writing 'model' of cleaned entries. Check data.\")"
      ]
    },
    {
      "cell_type": "code",
      "execution_count": 64,
      "metadata": {
        "id": "Q9_rqCFrNI5z"
      },
      "outputs": [],
      "source": [
        "#@title ### Clean-up: Add 'hit_rate' to cmodel_df\n",
        "\n",
        "# Add hit_rate cmodel_df (simpler to do so here rather than update all above code components involving gspread)\n",
        "\n",
        "cmodel_df['hit_rate'] = (cmodel_df['hit'] / cmodel_df['launched']).round(2)"
      ]
    },
    {
      "cell_type": "code",
      "execution_count": 65,
      "metadata": {
        "colab": {
          "base_uri": "https://localhost:8080/",
          "height": 640
        },
        "id": "G_-4sZpNqqUE",
        "outputId": "85060a72-f7fd-4ed5-9be5-ad71c0fdc2fd"
      },
      "outputs": [
        {
          "name": "stdout",
          "output_type": "stream",
          "text": [
            "'cmodel_df_orig' summed counts:\n",
            "launched    21,099.0\n",
            "destroyed   14,934.0\n",
            "dtype: float64 \n",
            "\n",
            "'cmodel_df' summed counts:\n",
            "launched    21,099.0\n",
            "destroyed   14,929.0\n",
            "dtype: float64 \n",
            "\n",
            "Difference in summed counts:\n",
            "launched    0.0\n",
            "destroyed   5.0\n",
            "dtype: float64 \n",
            "\n",
            "Difference between cmodel_df_orig and cmodel_df, by 'model_orig':\n"
          ]
        },
        {
          "data": {
            "text/html": [
              "<div>\n",
              "<style scoped>\n",
              "    .dataframe tbody tr th:only-of-type {\n",
              "        vertical-align: middle;\n",
              "    }\n",
              "\n",
              "    .dataframe tbody tr th {\n",
              "        vertical-align: top;\n",
              "    }\n",
              "\n",
              "    .dataframe thead th {\n",
              "        text-align: right;\n",
              "    }\n",
              "</style>\n",
              "<table border=\"1\" class=\"dataframe\">\n",
              "  <thead>\n",
              "    <tr style=\"text-align: right;\">\n",
              "      <th></th>\n",
              "      <th>launched</th>\n",
              "      <th>destroyed</th>\n",
              "    </tr>\n",
              "    <tr>\n",
              "      <th>model_orig</th>\n",
              "      <th></th>\n",
              "      <th></th>\n",
              "    </tr>\n",
              "  </thead>\n",
              "  <tbody>\n",
              "    <tr>\n",
              "      <th>C-400 and Iskander-M</th>\n",
              "      <td>7.0</td>\n",
              "      <td>7.0</td>\n",
              "    </tr>\n",
              "    <tr>\n",
              "      <th>Iskander-M/KN-23</th>\n",
              "      <td>0.0</td>\n",
              "      <td>4.0</td>\n",
              "    </tr>\n",
              "    <tr>\n",
              "      <th>Orlan-10 and ZALA</th>\n",
              "      <td>-1.0</td>\n",
              "      <td>-1.0</td>\n",
              "    </tr>\n",
              "    <tr>\n",
              "      <th>X-101/X-555 and Kalibr and X-59/X-69</th>\n",
              "      <td>-6.0</td>\n",
              "      <td>-5.0</td>\n",
              "    </tr>\n",
              "  </tbody>\n",
              "</table>\n",
              "</div>"
            ],
            "text/plain": [
              "                                      launched  destroyed\n",
              "model_orig                                               \n",
              "C-400 and Iskander-M                       7.0        7.0\n",
              "Iskander-M/KN-23                           0.0        4.0\n",
              "Orlan-10 and ZALA                         -1.0       -1.0\n",
              "X-101/X-555 and Kalibr and X-59/X-69      -6.0       -5.0"
            ]
          },
          "metadata": {},
          "output_type": "display_data"
        },
        {
          "name": "stdout",
          "output_type": "stream",
          "text": [
            "\n",
            "These discrepances are known and accepted:\n",
            "1. C-400 and Iskander-M\t7.0\t7.0 -- correction from data capture error in Kaggle dataset\n",
            "2. Iskander-M/KN-23\t-1.0\t3.0 -- due to rounding during clean-up\n",
            "3. Orlan-10 and ZALA\t-1.0\t-1.0 -- due to rounding during clean-up\n",
            "4. X-101/X-555 and Kalibr and X-59/X-69 -6.0\t-5.0 -- due to data correction as specified in Kaggle dataset. \n",
            "\n",
            "Summary:\n",
            "Data clean-up seems successful (same number of discrepancies as previously identified).\n"
          ]
        }
      ],
      "source": [
        "#@title ### Clean-up: Error Checking (via comparing 'cmodel_df_orig' and 'cmodel_df')\n",
        "\n",
        "print(\"'cmodel_df_orig' summed counts:\")\n",
        "print(cmodel_df_orig[['launched', 'destroyed']].sum(), \"\\n\")\n",
        "print(\"'cmodel_df' summed counts:\")\n",
        "print(cmodel_df[['launched', 'destroyed']].sum(), \"\\n\")\n",
        "print(\"Difference in summed counts:\")\n",
        "print(cmodel_df_orig[['launched', 'destroyed']].sum() - cmodel_df[['launched', 'destroyed']].sum(), \"\\n\")\n",
        "\n",
        "# Create variables for total, launched, and destroyed differentials\n",
        "l_diff, d_diff = cmodel_df_orig[['launched', 'destroyed']].sum() - cmodel_df[['launched', 'destroyed']].sum().to_list()\n",
        "\n",
        "# Create check_df as the difference betwen cmodel_df_orig and cmodel_df, grouped by model_orig\n",
        "check_df = cmodel_df_orig.groupby('model_orig')[['launched', 'destroyed']].sum() - cmodel_df.groupby('model_orig')[['launched', 'destroyed']].sum()\n",
        "\n",
        "# Displays model_orig rows (if any) for which subracted 'launched' or 'destroyed' is not 0 -- no entry should deviate by ~5 or more, else indicates a potential error\n",
        "err_comp_df = check_df[(check_df['launched'] != 0) | (check_df['destroyed'] != 0)]\n",
        "print(\"Difference between cmodel_df_orig and cmodel_df, by 'model_orig':\")\n",
        "display(err_comp_df)\n",
        "\n",
        "print() # blank line\n",
        "print(\"These discrepances are known and accepted:\")\n",
        "print(\"1. C-400 and Iskander-M\t7.0\t7.0 -- correction from data capture error in Kaggle dataset\")\n",
        "print(\"2. Iskander-M/KN-23\t-1.0\t3.0 -- due to rounding during clean-up\")\n",
        "print(\"3. Orlan-10 and ZALA\t-1.0\t-1.0 -- due to rounding during clean-up\")\n",
        "print(\"4. X-101/X-555 and Kalibr and X-59/X-69 -6.0\t-5.0 -- due to data correction as specified in Kaggle dataset.\", \"\\n\")\n",
        "\n",
        "num_known_discrep = 4    # manually entered\n",
        "\n",
        "print(\"Summary:\")\n",
        "if len(err_comp_df) == num_known_discrep:\n",
        "  print(\"Data clean-up seems successful (same number of discrepancies as previously identified).\")\n",
        "else:\n",
        "  print(\"Changes have resulted since error-checking last reviewed; it is recommended to review again.\")"
      ]
    },
    {
      "cell_type": "code",
      "execution_count": 66,
      "metadata": {
        "colab": {
          "base_uri": "https://localhost:8080/",
          "height": 150
        },
        "id": "-RfxBpsX7qC_",
        "outputId": "c6cc1c64-f181-400f-9d65-935297f5592a"
      },
      "outputs": [
        {
          "data": {
            "text/html": [
              "<div>\n",
              "<style scoped>\n",
              "    .dataframe tbody tr th:only-of-type {\n",
              "        vertical-align: middle;\n",
              "    }\n",
              "\n",
              "    .dataframe tbody tr th {\n",
              "        vertical-align: top;\n",
              "    }\n",
              "\n",
              "    .dataframe thead th {\n",
              "        text-align: right;\n",
              "    }\n",
              "</style>\n",
              "<table border=\"1\" class=\"dataframe\">\n",
              "  <thead>\n",
              "    <tr style=\"text-align: right;\">\n",
              "      <th></th>\n",
              "      <th>time_start</th>\n",
              "      <th>time_end</th>\n",
              "      <th>model_orig</th>\n",
              "      <th>model</th>\n",
              "      <th>launched</th>\n",
              "      <th>destroyed</th>\n",
              "      <th>hit</th>\n",
              "      <th>miss</th>\n",
              "      <th>destroyed_rate</th>\n",
              "      <th>miss_rate</th>\n",
              "      <th>hit_rate</th>\n",
              "    </tr>\n",
              "  </thead>\n",
              "  <tbody>\n",
              "    <tr>\n",
              "      <th>2020</th>\n",
              "      <td>2024-11-17 05:30</td>\n",
              "      <td>2024-11-17 08:30</td>\n",
              "      <td>X-101/X-555 and Kalibr</td>\n",
              "      <td>Kalibr</td>\n",
              "      <td>43.0</td>\n",
              "      <td>37.0</td>\n",
              "      <td>7.0</td>\n",
              "      <td>37.0</td>\n",
              "      <td>0.4</td>\n",
              "      <td>0.4</td>\n",
              "      <td>0.2</td>\n",
              "    </tr>\n",
              "  </tbody>\n",
              "</table>\n",
              "</div>"
            ],
            "text/plain": [
              "            time_start          time_end              model_orig   model  \\\n",
              "2020  2024-11-17 05:30  2024-11-17 08:30  X-101/X-555 and Kalibr  Kalibr   \n",
              "\n",
              "      launched  destroyed  hit  miss  destroyed_rate  miss_rate  hit_rate  \n",
              "2020      43.0       37.0  7.0  37.0             0.4        0.4       0.2  "
            ]
          },
          "metadata": {},
          "output_type": "display_data"
        },
        {
          "name": "stdout",
          "output_type": "stream",
          "text": [
            "\n",
            "These discrepancies are known and accounted:\n",
            "model_orig   model  launched  destroyed hit miss\n",
            "X-101/X-555 and Kalibr\tKalibr\t43.0\t37.0\t7.0\t37.0\n"
          ]
        }
      ],
      "source": [
        "#@title #### Checking newly created column totals ('hit' and 'miss')\n",
        "\n",
        "display(cmodel_df[(cmodel_df['hit'] + cmodel_df['miss']) > cmodel_df['launched']])\n",
        "\n",
        "print() # blank line\n",
        "print(\"These discrepancies are known and accounted:\")\n",
        "print(\"model_orig   model  launched  destroyed hit miss\")\n",
        "print(\"X-101/X-555 and Kalibr\tKalibr\t43.0\t37.0\t7.0\t37.0\")"
      ]
    },
    {
      "cell_type": "markdown",
      "metadata": {
        "id": "H45mmrH52kQ8"
      },
      "source": [
        "### Insert model_detail data from Google Sheets"
      ]
    },
    {
      "cell_type": "code",
      "execution_count": 67,
      "metadata": {
        "colab": {
          "base_uri": "https://localhost:8080/"
        },
        "collapsed": true,
        "id": "wqGJLBp61rl7",
        "outputId": "d3c19de2-3445-457b-f57b-c16c2e5164f5"
      },
      "outputs": [
        {
          "name": "stdout",
          "output_type": "stream",
          "text": [
            "Complete (no NA entries).\n"
          ]
        }
      ],
      "source": [
        "#@title #### Convert 'ru_model_detail' worksheet into a df\n",
        "\n",
        "detail = gc.open('pitferm_kaggle_ru_ukraine_attacks').worksheet('model_detail')\n",
        "detail_df = pd.DataFrame(detail.get_all_values(), columns=detail.row_values(1))\n",
        "detail_df = detail_df.iloc[1:, :].reset_index(inplace=False, drop=True)\n",
        "\n",
        "if detail_df.isna().sum().sum() == 0:\n",
        "  print(\"Complete (no NA entries).\")\n",
        "else:\n",
        "  print(\"Check upload datasheet--NA entries present.\")"
      ]
    },
    {
      "cell_type": "code",
      "execution_count": 68,
      "metadata": {
        "colab": {
          "base_uri": "https://localhost:8080/"
        },
        "id": "VvgPqRYvaomF",
        "outputId": "9151b18a-ae26-4807-952e-db75dbbeb440"
      },
      "outputs": [
        {
          "name": "stdout",
          "output_type": "stream",
          "text": [
            "Merge complete.\n"
          ]
        }
      ],
      "source": [
        "#@title #### Merge cmodel_df and detail_df with an inner join\n",
        "\n",
        "# prompt: Join on inner cmodel_df and detail_df, so that each indexed row in cmodel_df has columns added that mapped over from detail_df.\n",
        "\n",
        "# Merge cmodel_df and detail_df\n",
        "merged_df = pd.merge(cmodel_df, detail_df, on='model', how='inner')\n",
        "\n",
        "# Round 'miss_rate' to two decimal places\n",
        "merged_df['miss_rate'] = merged_df['miss_rate'].round(2)\n",
        "\n",
        "# Set 'start_date' and 'end_date' to datetime\n",
        "merged_df['time_start'] = pd.to_datetime(merged_df['time_start'], format='mixed')\n",
        "merged_df['time_end'] = pd.to_datetime(merged_df['time_end'], format='mixed')\n",
        "\n",
        "# Convert unit_cost_usd with pd.to_numeric()\n",
        "merged_df['unit_cost_usd'] = pd.to_numeric(merged_df['unit_cost_usd'].str.replace(',', ''), errors='coerce')\n",
        "\n",
        "# Sort by 'time_end'\n",
        "merged_df = merged_df.sort_values(by='time_end', ascending=False)\n",
        "\n",
        "# Time-constrain merged_df for data before 28 Dec 2024\n",
        "#merged_df = merged_df[merged_df['time_end'] < pd.to_datetime('2025-01-01')]\n",
        "\n",
        "print('Merge complete.')"
      ]
    },
    {
      "cell_type": "markdown",
      "metadata": {
        "id": "rBqDDIDOrB7T"
      },
      "source": [
        "## Dash App"
      ]
    },
    {
      "cell_type": "markdown",
      "metadata": {
        "id": "w0yttTVUkaxK"
      },
      "source": [
        "### DPX Components"
      ]
    },
    {
      "cell_type": "markdown",
      "metadata": {
        "id": "X-G0_Fj7qwAW"
      },
      "source": [
        "#### Install and Load Dash/Plotly modules-functions"
      ]
    },
    {
      "cell_type": "code",
      "execution_count": 69,
      "metadata": {
        "colab": {
          "base_uri": "https://localhost:8080/"
        },
        "id": "gUXROVWYgRXn",
        "outputId": "58bdd67e-c337-438a-b6d4-c8b72dd8b77b"
      },
      "outputs": [],
      "source": [
        "#@title Install dash/plotly modules\n",
        "\n",
        "!pip install dash plotly dash-html-components dash-core-components dash-bootstrap-components --quiet"
      ]
    },
    {
      "cell_type": "code",
      "execution_count": 70,
      "metadata": {
        "id": "LzzFbzxYqjsv"
      },
      "outputs": [],
      "source": [
        "#@title Load most Dash/Plotly functions\n",
        "\n",
        "import dash\n",
        "from dash import dcc, html, Input, Output, dash_table, State\n",
        "import dash_bootstrap_components as dbc\n",
        "import plotly.express as px\n",
        "import pandas as pd"
      ]
    },
    {
      "cell_type": "markdown",
      "metadata": {
        "id": "pHAYJpnkkRLd"
      },
      "source": [
        "#### DPX app: details_table"
      ]
    },
    {
      "cell_type": "code",
      "execution_count": 71,
      "metadata": {
        "id": "gdRX8IKfF_Ij"
      },
      "outputs": [],
      "source": [
        "#@title DPX app: details_table\n",
        "\n",
        "# prompt: Using Dash Plotly and from merge_df, create a table that groups merged_df by the columns from detail_df (i.e. detail_df.columns) and aggregates 'launched', 'hit', 'miss', 'destroyed', and 'miss_rate' the rows.\n",
        "\n",
        "import dash\n",
        "from dash import dash_table, State\n",
        "from dash.dash_table.Format import Format, Group, Scheme\n",
        "\n",
        "#app = dash.Dash(__name__, external_stylesheets=[dbc.themes.SLATE])\n",
        "\n",
        "# Create the data for the PX table, using df.groupby().agg()\n",
        "details_data = merged_df.groupby(detail_df.columns.tolist())[['launched', 'hit', 'miss', 'destroyed']].agg({ # 'miss_rate', 'destroyed_rate'\n",
        "            'launched': 'sum',\n",
        "            'hit': 'sum',\n",
        "            'miss': 'sum',\n",
        "            'destroyed': 'sum',\n",
        "            #'miss_rate': 'mean',\n",
        "            #'destroyed_rate': 'mean'\n",
        "        }).reset_index()\n",
        "\n",
        "# Insert 'miss_rate' and 'destroyed_rate' (rounded to 2 float) into details_data\n",
        "details_data['miss_rate'] = (details_data['miss'] / details_data['launched']).round(2)\n",
        "details_data['destroyed_rate'] = (details_data['destroyed'] / details_data['launched']).round(2)\n",
        "\n",
        "# Sort the details_data into category and type, descending by max 'launched' value per category and type, then by 'launched' within each 'category-type'\n",
        "details_data['max_l_cat'] = details_data.groupby(['category'])['launched'].transform('max')\n",
        "details_data['max_l_type'] = details_data.groupby(['type'])['launched'].transform('max')\n",
        "details_data = details_data.sort_values(by=['max_l_cat', 'max_l_type', 'launched'], ascending=False, inplace=False)\n",
        "details_data.drop(columns=['max_l_cat', 'max_l_type'], inplace=True) # drop temporary columns used for sorting\n",
        "\n",
        "# Create dict of column names to use in detail_table\n",
        "details_columns = [{\"name\": i, \"id\": i} for i in detail_df.columns.tolist() + ['launched', 'hit', 'miss', 'destroyed', 'miss_rate', 'destroyed_rate']]\n",
        "\n",
        "text_cols = detail_df.columns.drop('unit_cost_usd').to_list() # list of columns to format as text\n",
        "thousands_cols = ['unit_cost_usd', 'launched', 'hit', 'miss', 'destroyed'] # list of columns to format with thousands comma\n",
        "percent_cols = ['miss_rate', 'destroyed_rate'] # list of columns to format as percent\n",
        "\n",
        "for h, i in enumerate(details_columns): # conditionally append 'type' and 'format' to details_columns dict\n",
        "    if i.get('name') in text_cols:\n",
        "        details_columns[h]['type'] = 'text'\n",
        "    if i.get('name') in thousands_cols:\n",
        "        details_columns[h]['type'] = 'numeric'\n",
        "        details_columns[h]['format'] = format=Format().group(True)\n",
        "    if i.get('name') in percent_cols:\n",
        "        details_columns[h]['type'] = 'numeric'\n",
        "        details_columns[h]['format'] = Format(precision=0, scheme=Scheme.percentage)\n",
        "\n",
        "# PX table data and html formatting\n",
        "details_table = html.Div([\n",
        "    html.H2(\"Missile & Drone Model Details\"),\n",
        "    dbc.Button(\"Reset Sorting\", id=\"reset-sorting-btn\", color=\"primary\", outline=True, size=\"sm\"),\n",
        "    dash_table.DataTable(\n",
        "        id='details-table',\n",
        "        columns=details_columns,\n",
        "        data=details_data.to_dict('records'),\n",
        "        style_table={'margin-top': '10px'},\n",
        "        style_header={\n",
        "            'backgroundColor': 'rgb(30, 30, 30)',\n",
        "            'color': 'lightgray',\n",
        "            'fontWeight': 'bold',\n",
        "            'whitespace': 'normal',\n",
        "            'height': 'auto',\n",
        "            #'minwidth': '20px'\n",
        "        },\n",
        "        style_data={\n",
        "            'backgroundColor': 'rgb(50, 50, 50)',\n",
        "            'color': 'lightgray',\n",
        "        },\n",
        "        style_cell={'fontSize': 8, 'minwidth': '4%'},\n",
        "        style_cell_conditional=[\n",
        "            {'if': {'column_id': ['model', 'type', 'detail', 'maneuverability']}, 'width': '7.75%'}, #31%\n",
        "            {'if': {'column_id': ['category', 'range', 'altitude', 'speed']}, 'width': '6.5%'}, #26%\n",
        "            {'if': {'column_id': ['payload_kg', 'accuracy', 'unit_cost_usd']}, 'width': '5%'}, #15%\n",
        "            {'if': {'column_id': ['launched', 'hit', 'miss', 'destroyed', 'miss_rate']}, 'width': '4.5%'}, #22.5%\n",
        "            {'if': {'column_id': ['destroyed_rate']}, 'width': '5.5%'}, #5.5%\n",
        "        ],\n",
        "        #style_table={'overflowX': 'auto'},\n",
        "        sort_action='native',\n",
        "        sort_mode='multi',\n",
        "        page_size=10,\n",
        "        #style_table={'overflowX': 'auto', 'height': '300px', 'overflowY': 'auto'},\n",
        "        fixed_rows={'headers': True},\n",
        "    )\n",
        "], style={'margin-top': '5px'})"
      ]
    },
    {
      "cell_type": "markdown",
      "metadata": {
        "id": "C_0vz4CmlG9K"
      },
      "source": [
        "#### DPX app: attacks_table (data)"
      ]
    },
    {
      "cell_type": "code",
      "execution_count": 72,
      "metadata": {
        "id": "pJkv2QadiWkx"
      },
      "outputs": [],
      "source": [
        "# Create initial attacks_table_data with group-summed cols\n",
        "attacks_table_df = merged_df.copy()\n",
        "attacks_table_df['total cost'] = (attacks_table_df['launched'] * attacks_table_df['unit_cost_usd'])\n",
        "attacks_table_data = attacks_table_df.groupby('category', observed=False)[['launched', 'hit', 'miss', 'destroyed', 'total cost']].sum().sort_values('launched', ascending=False).reset_index()\n",
        "attacks_table_data['total cost'] = attacks_table_data['total cost'].round(0)\n",
        "\n",
        "# Add rate cols to attacks_table_data\n",
        "attacks_table_data['hit_rate'] = (attacks_table_data['hit'] / attacks_table_data['launched']).round(2)\n",
        "attacks_table_data['miss_rate'] = (attacks_table_data['miss'] / attacks_table_data['launched']).round(2)\n",
        "attacks_table_data['destroyed_rate'] = (attacks_table_data['destroyed'] / attacks_table_data['launched']).round(2)\n",
        "\n",
        "# Add avg_unit_cost col to attacks_table_data\n",
        "avg_unit_cost_catg = (attacks_table_df.groupby('category')['total cost'].sum() / attacks_table_df.groupby('category')['launched'].sum()).round(-3)\n",
        "attacks_table_data['avg unit cost'] = attacks_table_data['category'].map(avg_unit_cost_catg)\n",
        "\n",
        "# Create separate datasets for main categories (attacks_table_data_main) and incomplete categories (attacks_table_data_minor)\n",
        "attacks_table_data_main = attacks_table_data[~attacks_table_data['category'].isin(['UAV - recon', 'aerial bomb', 'IRBM'])].copy()\n",
        "attacks_table_data_minor = attacks_table_data[attacks_table_data['category'].isin(['UAV - recon', 'aerial bomb', 'IRBM'])].copy().reset_index(drop=True)\n",
        "\n",
        "# Create initial totals row with group-summed cols, and insert into attacks_table_data_main\n",
        "attacks_table_df_main = attacks_table_df[~attacks_table_df['category'].isin(['UAV - recon', 'aerial bomb', 'IRBM'])].copy().reset_index(drop=True)\n",
        "attacks_table_totals_main = attacks_table_df_main.groupby('category', observed=False)[['launched', 'hit', 'miss', 'destroyed', 'total cost']].sum().sum()\n",
        "#attacks_table_totals_main['total cost'] = attacks_table_totals_main['total cost'].round(0)\n",
        "attacks_table_data_main.loc['Total', ('launched', 'hit', 'miss', 'destroyed', 'total cost')] = attacks_table_totals_main.values\n",
        "\n",
        "# Insert total averages into attacks_table_data, specify 'Total' (for 'category' column), and reset index\n",
        "attacks_table_data_main.loc['Total', 'hit_rate'] = (attacks_table_df_main['hit'].sum() / attacks_table_df_main['launched'].sum()).round(2)\n",
        "attacks_table_data_main.loc['Total', 'miss_rate'] = (attacks_table_df_main['miss'].sum() / attacks_table_df_main['launched'].sum()).round(2)\n",
        "attacks_table_data_main.loc['Total', 'destroyed_rate'] = (attacks_table_df_main['destroyed'].sum() / attacks_table_df_main['launched'].sum()).round(2)\n",
        "attacks_table_data_main.loc['Total', 'avg unit cost'] = (attacks_table_df_main['total cost'].sum() / attacks_table_df_main['launched'].sum()).round(-3)\n",
        "attacks_table_data_main.loc['Total', 'category'] = 'Total'\n",
        "attacks_table_data_main = attacks_table_data_main.reset_index(drop=True)\n"
      ]
    },
    {
      "cell_type": "code",
      "execution_count": 73,
      "metadata": {
        "id": "xAkABYeu--Dw"
      },
      "outputs": [],
      "source": [
        "#@title attacks_table (html)\n",
        "\n",
        "# prompt: Using Dash Plotly and from merged_df, create a table which displays the 'launched', 'hit', 'miss', and 'destroyed' summed-up counts, grouped by 'category'. Title this table as, \"Missile Attacks by Category, for All Time\".\n",
        "\n",
        "from dash import dash_table, html\n",
        "from dash import dash_table\n",
        "from dash.dash_table.Format import Format, Group, Scheme\n",
        "\n",
        "\n",
        "# Define cell style for 'Table' row\n",
        "total_style = [\n",
        "    {\n",
        "        'if': {\n",
        "            'filter_query': '{category} = \"Total\"',  # Filter for rows where category is 'Total'\n",
        "            'column_id': list(attacks_table_data.columns)  # Apply across all columns\n",
        "        },\n",
        "        'backgroundColor': 'rgba(211, 211, 211, 0.1)',  # Set background color\n",
        "    }\n",
        "]\n",
        "\n",
        "\n",
        "# Define attacks_table via html\n",
        "attacks_table = html.Div([\n",
        "    html.H4(\"Breakdown by Category\"),\n",
        "    dash_table.DataTable(\n",
        "        id='attacks-table',\n",
        "        #columns=[{\"name\": i, \"id\": i} for i in ['category', 'launched', 'hit', 'miss', 'destroyed']],\n",
        "        columns=[\n",
        "            {\"name\": 'Category', \"id\": 'category', \"type\": 'text'},  # Set 'category' to string/object type\n",
        "            {\"name\": 'Launched', \"id\": 'launched', \"type\": 'numeric', \"format\": Format().group(True)},  # Set 'launched' to numeric\n",
        "            #{\"name\": 'hit', \"id\": 'hit', \"type\": 'numeric', \"format\": Format().group(True)},  # Set 'hit' to numeric\n",
        "            {\"name\": 'Hit', \"id\": 'hit_rate', \"type\": 'numeric', \"format\": Format(precision=0, scheme=Scheme.percentage)},\n",
        "            #{\"name\": 'miss', \"id\": 'miss', \"type\": 'numeric', \"format\": Format().group(True)},  # Set 'miss' to numeric\n",
        "            {\"name\": 'Miss', \"id\": 'miss_rate', \"type\": 'numeric', \"format\": Format(precision=0, scheme=Scheme.percentage)},\n",
        "            #{\"name\": 'destroyed', \"id\": 'destroyed', \"type\": 'numeric', \"format\": Format().group(True)},  # Set 'destroyed' to numeric\n",
        "            {\"name\": 'Destroyed', \"id\": 'destroyed_rate', \"type\": 'numeric', \"format\": Format(precision=0, scheme=Scheme.percentage)},\n",
        "            {\"name\": 'Avg Unit Cost', \"id\": 'avg unit cost', \"type\": 'numeric', \"format\": Format().group(True)},  # Set 'unit_cost_usd' to numeric\n",
        "            {\"name\": 'Total Cost', \"id\": 'total cost', \"type\": 'numeric', \"format\": Format().group(True)},  # Set 'cost (US$M)' to numeric\n",
        "        ],\n",
        "        data=attacks_table_data_main.to_dict('records'),\n",
        "        style_header={\n",
        "            'backgroundColor': 'rgb(30, 30, 30)',\n",
        "            'color': 'lightgray',\n",
        "        },\n",
        "        style_data={\n",
        "            'backgroundColor': 'rgb(50, 50, 50)',\n",
        "            'color': 'lightgray',\n",
        "        },\n",
        "        style_table={\n",
        "            'overflowX': 'auto',\n",
        "            'width': '100%',\n",
        "            'margin-bottom': '2px',\n",
        "        },\n",
        "        style_cell={'fontSize': 14, 'textAlign': 'center'},\n",
        "        style_cell_conditional=[\n",
        "            {'if': {'column_id': 'category'}, 'width': '20%'}, # Set width for 'category' column\n",
        "            #{'if': {'column_id': ['launched', 'hit', 'hit_rate' 'miss', 'miss_rate', 'destroyed', 'destroyed_rate']}, 'width': '11%', 'format': {'specifier': ',.0f'}}  # Equal width for other columns, and center-aligned text\n",
        "            {'if': {'column_id': ['launched', 'hit_rate' 'miss_rate', 'destroyed_rate']}, 'width': '13%', 'format': {'specifier': ',.0f'}},\n",
        "            {'if': {'column_id': ['avg unit cost', 'total cost']}, 'width': '15%', 'format': {'specifier': ',.0f'}},\n",
        "        ],\n",
        "        style_data_conditional=total_style  # apply style for 'Total' row\n",
        "    ),\n",
        "])"
      ]
    },
    {
      "cell_type": "code",
      "execution_count": 74,
      "metadata": {
        "id": "qP1EPfq-suSR"
      },
      "outputs": [],
      "source": [
        "#@title attacks_table_minor (html)\n",
        "\n",
        "attacks_table_minor = html.Div([\n",
        "    html.H6(\"Categories with Incomplete Data\", style={'margin-top': '6px'}),\n",
        "    dash_table.DataTable(\n",
        "        id='attacks-table-minor',\n",
        "        #columns=[{\"name\": i, \"id\": i} for i in ['category', 'launched', 'hit', 'miss', 'destroyed']],\n",
        "        columns=[\n",
        "            {\"name\": 'Category', \"id\": 'category', \"type\": 'text'},  # Set 'category' to string/object type\n",
        "            {\"name\": 'Launched', \"id\": 'launched', \"type\": 'numeric', \"format\": Format().group(True)},  # Set 'launched' to numeric\n",
        "            #{\"name\": 'hit', \"id\": 'hit', \"type\": 'numeric', \"format\": Format().group(True)},  # Set 'hit' to numeric\n",
        "            {\"name\": 'Hit', \"id\": 'hit_rate', \"type\": 'numeric', \"format\": Format(precision=0, scheme=Scheme.percentage)},\n",
        "            #{\"name\": 'miss', \"id\": 'miss', \"type\": 'numeric', \"format\": Format().group(True)},  # Set 'miss' to numeric\n",
        "            {\"name\": 'Miss', \"id\": 'miss_rate', \"type\": 'numeric', \"format\": Format(precision=0, scheme=Scheme.percentage)},\n",
        "            #{\"name\": 'destroyed', \"id\": 'destroyed', \"type\": 'numeric', \"format\": Format().group(True)},  # Set 'destroyed' to numeric\n",
        "            {\"name\": 'Destroyed', \"id\": 'destroyed_rate', \"type\": 'numeric', \"format\": Format(precision=0, scheme=Scheme.percentage)},\n",
        "            {\"name\": 'Avg Unit Cost', \"id\": 'avg unit cost', \"type\": 'numeric', \"format\": Format().group(True)},  # Set 'unit_cost_usd' to numeric\n",
        "            {\"name\": 'Total Cost', \"id\": 'total cost', \"type\": 'numeric', \"format\": Format().group(True)},  # Set 'cost (US$M)' to numeric\n",
        "        ],\n",
        "        data=attacks_table_data_minor.to_dict('records'),\n",
        "        style_header={\n",
        "            'backgroundColor': 'rgb(30, 30, 30)',\n",
        "            'color': 'lightgray',\n",
        "        },\n",
        "        style_data={\n",
        "            'backgroundColor': 'rgb(50, 50, 50)',\n",
        "            'color': 'lightgray',\n",
        "        },\n",
        "        style_table={\n",
        "            'overflowX': 'auto',\n",
        "            'width': '100%',\n",
        "            'margin-right': '20px',\n",
        "            'margin-bottom': '2px',\n",
        "        },\n",
        "        style_cell={'fontSize': 12, 'textAlign': 'center'},\n",
        "        style_cell_conditional=[\n",
        "            {'if': {'column_id': 'category'}, 'width': '20%'}, # Set width for 'category' column\n",
        "            #{'if': {'column_id': ['launched', 'hit', 'hit_rate' 'miss', 'miss_rate', 'destroyed', 'destroyed_rate']}, 'width': '11%', 'format': {'specifier': ',.0f'}}  # Equal width for other columns, and center-aligned text\n",
        "            {'if': {'column_id': ['launched', 'hit_rate' 'miss_rate', 'destroyed_rate']}, 'width': '13%', 'format': {'specifier': ',.0f'}},\n",
        "            {'if': {'column_id': ['avg unit cost', 'total cost']}, 'width': '15%', 'format': {'specifier': ',.0f'}},\n",
        "        ],\n",
        "        style_data_conditional=total_style  # apply style for 'Total' row\n",
        "    ),\n",
        "    html.Div([\n",
        "        html.Em(\"Note: 'aerial bomb' and 'UAV - recon' are significantly under-represented in the Kaggle dataset, and 'IRBM' is miniscule.\")\n",
        "    ], className=\"card-text\", style={'fontSize': '11px', 'textAlign': 'left', 'margin-left': '2px', 'margin-bottom': '10px'})\n",
        "])"
      ]
    },
    {
      "cell_type": "markdown",
      "metadata": {
        "id": "I-rKD6ZhlqIy"
      },
      "source": [
        "#### DPX app: intro_info"
      ]
    },
    {
      "cell_type": "code",
      "execution_count": 75,
      "metadata": {
        "id": "eXtjgP-qMbxy"
      },
      "outputs": [],
      "source": [
        "#@title intro_info\n",
        "\n",
        "# brief description and image\n",
        "\n",
        "# Create intro 'Description' as dbc.Card()\n",
        "intro_text = dbc.Card(\n",
        "    dbc.CardBody([\n",
        "        html.H4(\"Description\", className=\"card-title\", style={'textAlign': 'center'}),\n",
        "        html.P([\n",
        "            \"This \",\n",
        "            html.A(\"dashboard\", href=\"https://ru-ukraine-missile-drone-attacks.onrender.com/\"),\n",
        "            \" presents metrics on Russian missiles & drones launched against Ukraine (Oct 2022-present).\",\n",
        "            html.Div(html.Img(src=\"assets/ukraine_map_flag_transparent_cropped.png\", alt=\"ukraine-map\", style={'width': '90%'}), style={'textAlign': 'center'}),\n",
        "            \"The data source is Kaggle-hosted \",\n",
        "            html.A(\"Massive Missile Attacks on Ukraine\", href=\"https://www.kaggle.com/datasets/piterfm/massive-missile-attacks-on-ukraine\", target=\"_blank\"),\n",
        "            \", which weekly sources its data from the Ukrainian Air Force social accounts (e.g. \",\n",
        "            html.A(\"KpsZSU\", href=\"https://facebook.com/kpszsu\"),\n",
        "            \", \",\n",
        "            html.A(\"PvKPivden\", href=\"https://facebook.com/PvKPivden\"),\n",
        "            \") and is also featured by \",\n",
        "            html.A(\"CSIS\", href=\"https://www.csis.org/programs/futures-lab/projects/russian-firepower-strike-tracker-analyzing-missile-attacks-ukraine\"),\n",
        "            \". Hooper Consulting \",\n",
        "            html.A(\"cleans and enhances\", href=\"https://docs.google.com/spreadsheets/d/1Zs705hRN7HfUOOhTZN2nNIPB6SAeKaxU1AQAkGZinzk/edit?usp=sharing\"),\n",
        "            \" the Kaggle data, and delivers this dashboard via a Python Dash app, \",\n",
        "            html.A(\"GitHub\", href=\"https://github.com/dhoop1/ru_ukraine_missile_drone_attacks\"),\n",
        "            \", and Render.\",\n",
        "            #html.Br(),\n",
        "            #html.Em(\"Kaggle Data Updated: \" + kaggle_last_updated),\n",
        "        ], className=\"card-text\", style={'fontSize': '11.5px', 'textAlign': 'center'},\n",
        "        ),\n",
        "        html.P([\n",
        "            #html.Em(\"Kaggle data updated: \" + \"01/05/2025\"),\n",
        "            html.Em(\"Kaggle data updated: \" + kaggle_last_updated_str),\n",
        "        ], className=\"card-text\", style={'fontSize': '11.5px', 'textAlign': 'center', 'margin': '0px'}\n",
        "        )\n",
        "    ]),\n",
        "    #style={'border': '1px solid lightgray', \"margin-bottom\":\"15px\"},\n",
        "    style={'border': 'none', 'textAlign': 'center', 'background-color': 'rgba(211, 211, 211, 0.07)'} # set faint gray background\n",
        ")"
      ]
    },
    {
      "cell_type": "markdown",
      "metadata": {
        "id": "xLiafhgaluyx"
      },
      "source": [
        "#### DPX app: metrics_bar"
      ]
    },
    {
      "cell_type": "code",
      "execution_count": 80,
      "metadata": {
        "id": "VBwX7WnyO3Ni"
      },
      "outputs": [],
      "source": [
        "#@title metrics_bar (data)\n",
        "\n",
        "# merged_df_main\n",
        "merged_df_main = merged_df[~merged_df['category'].isin(['UAV - recon', 'aerial bomb', 'IRBM'])].copy().reset_index(drop=True)\n",
        "\n",
        "# days_at_war\n",
        "from datetime import date\n",
        "#min_date = pd.to_datetime(merged_df['time_start'], format=\"mixed\").min()\n",
        "start_date = pd.to_datetime(\"02/24/2022 12:00:00\") # First day of Russia invasion against Ukraine (24 Feb 2022), as reported by the Ukrainian Air Force\n",
        "today = date.today()\n",
        "days_at_war = (today - start_date.date()).days\n",
        "\n",
        "# weeks_count\n",
        "min_date = pd.to_datetime(merged_df_main['time_start'], format=\"mixed\").min()\n",
        "today = date.today()\n",
        "last_day_2024 = pd.to_datetime(\"12/31/2024\")\n",
        "weeks_count = round((today - min_date.date()).days / 7, 0)\n",
        "\n",
        "# total_launched\n",
        "total_launched = merged_df_main['launched'].sum()\n",
        "\n",
        "# total_ru_mad_cost\n",
        "#merged_df['unit_cost_usd'] = merged_df['unit_cost_usd'].astype(str).str.replace(\",\", \"\", regex=False)\n",
        "#merged_df['unit_cost_usd'] = pd.to_numeric(merged_df['unit_cost_usd'], errors='coerce')\n",
        "attack_cost = merged_df_main['launched'] * merged_df_main['unit_cost_usd'].astype(float)\n",
        "total_ru_mad_cost = (attack_cost.sum()/1000000).round(0)\n",
        "\n",
        "# weekly_avg_launched\n",
        "weekly_avg_launched = (total_launched / weeks_count).round(0)\n",
        "\n",
        "# weekly_avg_cost\n",
        "weekly_avg_cost = (total_ru_mad_cost / weeks_count).round(0)\n",
        "\n",
        "# last_30days_launched\n",
        "merged_df_main['time_end'] = pd.to_datetime(merged_df['time_end'], format=\"mixed\")\n",
        "#last_30days = merged_df_main[merged_df_main['time_end'] >= (last_day_2024 - pd.Timedelta(days=30))]\n",
        "last_30days = merged_df[merged_df['time_end'] >= (pd.Timestamp(today) - pd.Timedelta(days=30))]\n",
        "last_30days_launched = last_30days['launched'].sum()\n",
        "\n",
        "# last_30days_cost\n",
        "last_30days_cost = ((last_30days['launched'] * last_30days['unit_cost_usd'].astype(float)).sum() / 1000000).round(0)"
      ]
    },
    {
      "cell_type": "code",
      "execution_count": 81,
      "metadata": {
        "id": "OPGV90Efr3Wh"
      },
      "outputs": [],
      "source": [
        "#@title v2 metrics_bar (html.Div)\n",
        "\n",
        "# prompt: Create metrics_bar2 = html.Div() which contains days_at_war, total_launched, total_ru_mad_cost, and last_30days_launched as four Cards horizontally adjacent (which \"share\" a common background and outline), with the descriptor in html.H6() and the variable in html.P() smaller font size.\n",
        "\n",
        "metrics_data = [{\n",
        "        #'days-at-war': days_at_war,  # Reference actual variable\n",
        "        'total-launched': total_launched,  # Reference actual variable\n",
        "        'total-cost': total_ru_mad_cost,  # Reference actual variable\n",
        "        'weekly-avg-launched': weekly_avg_launched,  # Reference actual variable\n",
        "        'weekly-avg-cost': weekly_avg_cost,  # Reference actual variable\n",
        "        'last-30days-launched': last_30days_launched,  # Reference actual variable\n",
        "        'last-30days-cost': last_30days_cost,  # Reference actual variable\n",
        "    }]\n",
        "\n",
        "metrics_bar4 = html.Div([\n",
        "    html.H4(\"Summary Metrics (Oct 2022-Present)\"), # style={'textAlign': \"center\"}\n",
        "    dbc.Row([\n",
        "        dash_table.DataTable(\n",
        "            id='metrics-table',\n",
        "            columns=[\n",
        "                #dict(id='days-at-war', name=\"Days \\n at War\", type='numeric', format=Format().group(True)),\n",
        "                dict(id='total-launched', name=\"Total \\n Launched\", type='numeric', format=Format().group(True)),\n",
        "                dict(id='total-cost', name=\"Total Cost ($M)\", type='numeric', format=Format().group(True)),\n",
        "                dict(id='weekly-avg-launched', name=\"Weekly Avg \\n Launched\", type='numeric', format=Format().group(True)),\n",
        "                dict(id='weekly-avg-cost', name=\"Weekly Avg \\n Cost ($M)\", type='numeric', format=Format().group(True)),\n",
        "                dict(id='last-30days-launched', name=\"Last 30 Days Launched\", type='numeric', format=Format().group(True)),\n",
        "                dict(id='last-30days-cost', name=\"Last 30 Days \\n Cost ($M)\", type='numeric', format=Format().group(True)),\n",
        "            ],\n",
        "            data=metrics_data,\n",
        "            style_header={\n",
        "                'backgroundColor': 'transparent',\n",
        "                'color': 'lightgray',\n",
        "                'fontWeight': 'bold',\n",
        "                'font-size': 14,\n",
        "                'border': 'none',\n",
        "                'textAlign': 'center',\n",
        "                'whiteSpace': 'pre-line',\n",
        "            },\n",
        "            style_table={\n",
        "                'overflowX': 'auto',\n",
        "                'border': 'none',\n",
        "                #'border-collapse': 'collapse',\n",
        "                'margin': 3,\n",
        "                'padding': '2% 2% 2% 0%'\n",
        "            },\n",
        "            style_data={\n",
        "                'backgroundColor': 'transparent',\n",
        "                'color': 'lightgray',\n",
        "                'border': 'none',\n",
        "            },\n",
        "            style_cell={\n",
        "                'fontSize': 14,\n",
        "                'textAlign': 'center',\n",
        "                'width': '16.7%',\n",
        "                'border': 'none',\n",
        "            },\n",
        "            style_header_conditional=[\n",
        "                {'if': {'column_id': ['total-launched', 'weekly-avg-launched', 'last-30days-launched']}, 'background-color': 'rgba(211, 211, 211, 0.2)'},\n",
        "                {'if': {'column_id': ['total-cost', 'weekly-avg-cost', 'last-30days-cost']}, 'background-color': 'rgba(211, 211, 211, 0.1)'}\n",
        "            ],\n",
        "            style_data_conditional=[\n",
        "                {'if': {'column_id': ['total-launched', 'weekly-avg-launched', 'last-30days-launched']}, 'background-color': 'rgba(211, 211, 211, 0.1)'},\n",
        "                #{'if': {'column_id': ['days-at-war', 'total-launched']}, 'background-color': 'rgba(211, 211, 211, 0.05)'}\n",
        "            ],\n",
        "        )\n",
        "    ]) # style={'border': '1px solid lightgray', 'margin': 4, 'padding': '2%'}\n",
        "])"
      ]
    },
    {
      "cell_type": "markdown",
      "metadata": {
        "id": "sRETBhcE9kob"
      },
      "source": [
        "#### DPX app: attack_size"
      ]
    },
    {
      "cell_type": "code",
      "execution_count": 82,
      "metadata": {
        "id": "LahfQGtniWk0"
      },
      "outputs": [],
      "source": [
        "#@title attack_size_avg_data\n",
        "\n",
        "# Create mod_category list (as a list of 'category' values to include)\n",
        "as_category_list = ['UAV - munition', 'cruise missile', 'ballistic missile', 'anti-air missile']\n",
        "\n",
        "# Create attack_size_df, convert time_end datetime to date, and filter to columns in mod_category_list\n",
        "attack_size_df = merged_df.copy()\n",
        "attack_size_df['time_end'] = pd.to_datetime(attack_size_df['time_end'], format=\"mixed\").dt.date\n",
        "attack_size_df = attack_size_df.loc[attack_size_df['category'].isin(as_category_list), :]\n",
        "\n",
        "# Create bins/labels for daily 'attack size' counts\n",
        "bins = [0, 10, 50, 100, float('inf')]\n",
        "labels = ['<10', '10-49', '50-99', '100+']\n",
        "\n",
        "# Create attack_size_list (as a header-labeled list of 'attack size' labels)\n",
        "attack_size_list = ['attack size'] + labels\n",
        "\n",
        "# Create hit_by_category (as pivot table of 'launched' and 'hit' summed by 'end_date' and 'category')\n",
        "launched_by_category = attack_size_df.pivot_table(index='time_end', columns='category', values=('launched', 'hit'), aggfunc='sum', fill_value=0)\n",
        "#launched_by_category = launched_by_category.drop(columns=[('launched', 'UAV - recon'), ('launched', 'aerial bomb'), ('launched', 'IRBM'), ('hit', 'UAV - recon'), ('hit', 'aerial bomb'), ('hit', 'IRBM')])\n",
        "launched_by_category['Avg Hits'] = launched_by_category['hit'].sum(axis=1) # titling as 'Avg Hits' now, and will later apply .mean()\n",
        "launched_by_category['Avg Launched'] = launched_by_category['launched'].sum(axis=1) # titling as 'Avg Launched' now, and will later apply .mean()\n",
        "launched_by_category['attack size'] = pd.cut(launched_by_category['Avg Launched'], bins=bins, labels=labels, right=False) # adds new 'attack size' column per bins/labels\n",
        "\n",
        "# Create daily_avg_hit_by_category (with grouped totals for 'Avg Launched', 'Avg Hits', and '# attacks')\n",
        "daily_avg_launched_by_category = launched_by_category.groupby('attack size', observed=False)['Avg Hits'].mean().reset_index() # now becomes a .mean()\n",
        "daily_avg_launched_by_category.columns = ['attack size', 'Avg Hits']\n",
        "daily_avg_launched_by_category['Avg Launched'] = launched_by_category.groupby('attack size', observed=False)['Avg Launched'].mean().reset_index()['Avg Launched'] # now becomes a .mean()\n",
        "daily_avg_launched_by_category['# attacks'] = launched_by_category.groupby('attack size', observed=False)['Avg Launched'].count().values # counts of 'attack size' labels\n",
        "daily_avg_launched_by_category = daily_avg_launched_by_category.round(1)\n",
        "\n",
        "# Create launched_means (by group-averaging from hit_by_category, transposing, and concatting 'Avg Launched')\n",
        "launched_means2 = launched_by_category.groupby(['attack size'], observed=False)[[('launched', 'UAV - munition'), ('launched', 'cruise missile'), ('launched', 'ballistic missile'), ('launched', 'anti-air missile')]].mean().reset_index()\n",
        "launched_means2 = launched_means2['launched']\n",
        "launched_means2.columns = [\"(L) \" + c for c in as_category_list] # differentiate 'category' labels for 'launched' (in same df/table)\n",
        "launched_means2 = launched_means2.T.round(1)\n",
        "launched_means2 = pd.concat([daily_avg_launched_by_category['Avg Launched'].to_frame(name='Avg Launched').T, launched_means2], ignore_index=False).reset_index()\n",
        "launched_means2.columns = attack_size_list\n",
        "\n",
        "# create hit_means\n",
        "hit_means2 = launched_by_category.groupby(['attack size'], observed=False)[[('hit', 'UAV - munition'), ('hit', 'cruise missile'), ('hit', 'ballistic missile'), ('hit', 'anti-air missile')]].mean().reset_index()\n",
        "hit_means2 = hit_means2['hit']\n",
        "hit_means2.columns = [\"(H) \" + c for c in as_category_list] # differentiate 'category' labels for 'hit' (in same df/table)\n",
        "hit_means2 = hit_means2.T.round(1)\n",
        "hit_means2 = pd.concat([daily_avg_launched_by_category['Avg Hits'].to_frame(name='Avg Hits').T, hit_means2], ignore_index=False).reset_index()\n",
        "hit_means2.columns = attack_size_list\n",
        "\n",
        "# Create attack_size_avg_data (by concatenating 'attack size', '# attacks', launched_means2, and hit_means2)\n",
        "attack_size_avg_data = pd.concat([daily_avg_launched_by_category.set_index('attack size')['# attacks'].to_frame().T.reset_index().rename(columns={'index': 'attack size'}), launched_means2, hit_means2], ignore_index=True)"
      ]
    },
    {
      "cell_type": "code",
      "execution_count": 83,
      "metadata": {
        "id": "WalORPTVtszh"
      },
      "outputs": [],
      "source": [
        "#@title attack_size_count (html)\n",
        "\n",
        "from dash import dash_table, html\n",
        "from dash import dash_table\n",
        "from dash.dash_table.Format import Format, Group, Scheme\n",
        "\n",
        "avg_launched_style = {\n",
        "    'if': {\n",
        "        'filter_query': '{attack size} = \"Avg Launched\"',  # Filter for rows where category is '# attacks'\n",
        "        'column_id': attack_size_list  # Apply across all columns\n",
        "    },\n",
        "    'type': 'numeric', 'format': Format(precision=0, scheme=Scheme.fixed),  # Set float point\n",
        "    'backgroundColor': 'rgba(211, 211, 211, 0.05)',  # Set background color\n",
        "    'fontSize': '14px'\n",
        "}\n",
        "\n",
        "avg_hits_style = {\n",
        "    'if': {\n",
        "        'filter_query': '{attack size} = \"Avg Hits\"',  # Filter for rows where category is '# attacks'\n",
        "        'column_id': attack_size_list  # Apply across all columns\n",
        "    },\n",
        "    'type': 'numeric', 'format': Format(precision=0, scheme=Scheme.fixed),  # Set float point\n",
        "    'backgroundColor': 'rgba(211, 211, 211, 0.05)',  # Set background color\n",
        "    'fontSize': '14px',\n",
        "}\n",
        "\n",
        "num_attacks_style = {\n",
        "    'if': {\n",
        "        'filter_query': '{attack size} = \"# attacks\"',  # Filter for rows where category is '# attacks'\n",
        "        'column_id': attack_size_list  # Apply across all columns\n",
        "    },\n",
        "    'type': 'numeric', 'format': Format(precision=0, scheme=Scheme.fixed),\n",
        "    'fontSize': '14px',\n",
        "}\n",
        "\n",
        "\n",
        "# Define attack_size_avg DataTable\n",
        "attack_size_avg = html.Div([\n",
        "    html.H4(\"Avg Launched and Hits, by Attack Size\", style={'margin-bottom': '10px'}),\n",
        "    dash_table.DataTable(\n",
        "        id='attack-size-avg',\n",
        "        columns=[{'id': c, 'name': c} for c in attack_size_list],\n",
        "        data=attack_size_avg_data.to_dict('records'),\n",
        "        #data=daily_avg_hit_by_category.set_index('attack size')['# attacks'].to_frame().T.reset_index().rename(columns={'index': 'attack size'}).to_dict('records'),\n",
        "        style_data={\n",
        "            'backgroundColor': 'rgb(50, 50, 50)',\n",
        "            'color': 'lightgray',\n",
        "        },\n",
        "        style_table={\n",
        "            'overflowX': 'auto',\n",
        "            'width': '100%',\n",
        "            'border-top': '0',\n",
        "        },\n",
        "        style_cell={'fontSize': 12, 'textAlign': 'center'},\n",
        "        style_cell_conditional=[\n",
        "            {'if': {'column_id': 'attack size'}, 'backgroundColor': 'rgb(30, 30, 30)', 'width': '33%'},\n",
        "            {'if': {'column_id': attack_size_list[1:]}, 'type': 'numeric', 'format': Format(precision=1, scheme=Scheme.fixed)},\n",
        "        ],\n",
        "        style_data_conditional=[\n",
        "            num_attacks_style,\n",
        "            avg_launched_style,\n",
        "            avg_hits_style\n",
        "        ],\n",
        "        style_header={\n",
        "            'backgroundColor': 'rgb(30, 30, 30)',\n",
        "            'color': 'lightgray',\n",
        "            'fontSize': '14px',\n",
        "        },\n",
        "    )\n",
        "])"
      ]
    },
    {
      "cell_type": "code",
      "execution_count": 84,
      "metadata": {
        "id": "ZWxhU--tcZrV"
      },
      "outputs": [],
      "source": [
        "#@title attack_size_metrics (data)\n",
        "\n",
        "# attack_size_total\n",
        "attack_size_total = daily_avg_launched_by_category['# attacks'].sum()\n",
        "\n",
        "# attacks_per_week\n",
        "attacks_per_week = round(attack_size_total / weeks_count, 1)\n",
        "\n",
        "# avg_launched_per_attack\n",
        "avg_launched_per_attack = total_launched / attack_size_total"
      ]
    },
    {
      "cell_type": "code",
      "execution_count": 85,
      "metadata": {
        "id": "kWD6RaqkejqL"
      },
      "outputs": [],
      "source": [
        "#@title attack_size_metrics (html)\n",
        "\n",
        "attack_size_data = [{\n",
        "        'attack-size-total': attack_size_total,\n",
        "        'attacks-per-week': attacks_per_week,\n",
        "        'avg-launched-per-attack': avg_launched_per_attack,\n",
        "    }]\n",
        "\n",
        "attack_size_bar = html.Div([\n",
        "    #html.H4(\"Attack Size Metrics\"), # style={'textAlign': \"center\"} -- no title currently\n",
        "    dbc.Row([\n",
        "        dash_table.DataTable(\n",
        "            id='attack-size-bar',\n",
        "            columns=[\n",
        "                dict(id='attack-size-total', name=\"Total # Attacks\", type='numeric', format=Format().group(True)),\n",
        "                dict(id='attacks-per-week', name=\"Avg # Attacks \\n per Week\", type='numeric', format=Format(precision=1, scheme=Scheme.fixed)),\n",
        "                dict(id='avg-launched-per-attack', name=\"Avg Launched \\n per Attack\", type='numeric', format=Format(precision=1, scheme=Scheme.fixed)),\n",
        "            ],\n",
        "            data=attack_size_data,\n",
        "            style_header={\n",
        "                'backgroundColor': 'transparent',\n",
        "                'color': 'lightgray',\n",
        "                'fontWeight': 'bold',\n",
        "                'font-size': 14,\n",
        "                'border': 'none',\n",
        "                'textAlign': 'center',\n",
        "                'whiteSpace': 'pre-line',\n",
        "            },\n",
        "            style_table={\n",
        "                'overflowX': 'auto',\n",
        "                'border': 'none',\n",
        "                #'border-collapse': 'collapse',\n",
        "                'margin': 4,\n",
        "                'padding': '2% 1% 2% 0%'\n",
        "            },\n",
        "            style_data={\n",
        "                'backgroundColor': 'transparent',\n",
        "                'color': 'lightgray',\n",
        "                'border': 'none',\n",
        "            },\n",
        "            style_cell={\n",
        "                'fontSize': 14,\n",
        "                'textAlign': 'center',\n",
        "                'width': '16.7%',\n",
        "                'border': 'none',\n",
        "            },\n",
        "            style_header_conditional=[\n",
        "                {'if': {'column_id': ['attack-size-total', 'avg-launched-per-attack']}, 'background-color': 'rgba(211, 211, 211, 0.2)'},\n",
        "                {'if': {'column_id': ['attacks-per-week']}, 'background-color': 'rgba(211, 211, 211, 0.1)'}\n",
        "            ],\n",
        "            style_data_conditional=[\n",
        "                {'if': {'column_id': ['attack-size-total', 'avg-launched-per-attack']}, 'background-color': 'rgba(211, 211, 211, 0.1)'},\n",
        "            ],\n",
        "        )\n",
        "    ]) # style={'margin-top': '10px'}\n",
        "])"
      ]
    },
    {
      "cell_type": "markdown",
      "metadata": {
        "id": "IHXrSwITkexm"
      },
      "source": [
        "#### DPX app: ts_bar_chart"
      ]
    },
    {
      "cell_type": "code",
      "execution_count": 86,
      "metadata": {
        "id": "yrvW4QEEaV_h"
      },
      "outputs": [],
      "source": [
        "#@title #### dropdown_items (html)\n",
        "\n",
        "# range_dropdown\n",
        "range_dropdown = dbc.Col([\n",
        "    dbc.Row(html.Label(\"Range:\", style={'textAlign': 'center', 'fontWeight': 'bold', 'margin-bottom':1})),\n",
        "    dcc.Dropdown(\n",
        "        id='range-dropdown',\n",
        "        options=[{'label': val, 'value': val} for val in merged_df['range'].unique()],\n",
        "        value=merged_df['range'].unique().tolist(),\n",
        "        multi=True,\n",
        "        style={'background': '#3a3f44'},\n",
        "        #style={'display': 'block'}\n",
        "    )\n",
        "])\n",
        "\n",
        "# speed_dropdown\n",
        "speed_dropdown = dbc.Col([\n",
        "    dbc.Row(html.Label(\"Speed:\", style={'textAlign': 'center', 'fontWeight': 'bold', 'margin-bottom':1})),\n",
        "    dcc.Dropdown(\n",
        "        id='speed-dropdown',\n",
        "        options=[{'label': val, 'value': val} for val in merged_df['speed'].unique()],\n",
        "        value=merged_df['speed'].unique().tolist(),\n",
        "        multi=True,\n",
        "        style={'background': '#3a3f44'},\n",
        "        #style={'display': 'block'}\n",
        "    )\n",
        "])\n",
        "\n",
        "# altitude_dropdown\n",
        "altitude_dropdown = dbc.Col([\n",
        "    dbc.Row(html.Label(\"Altitude:\", style={'textAlign': 'center', 'fontWeight': 'bold', 'margin-bottom':1})),\n",
        "    dcc.Dropdown(\n",
        "        id='altitude-dropdown',\n",
        "        options=[{'label': val, 'value': val} for val in merged_df['altitude'].unique()],\n",
        "        value=merged_df['altitude'].unique().tolist(),\n",
        "        multi=True,\n",
        "        style={'background': '#3a3f44'},\n",
        "        #style={'display': 'block'}\n",
        "    )\n",
        "])"
      ]
    },
    {
      "cell_type": "code",
      "execution_count": 87,
      "metadata": {
        "collapsed": true,
        "id": "bWnIHYRebhcV"
      },
      "outputs": [],
      "source": [
        "#@title #### ts_bar_chart\n",
        "\n",
        "# prompt: From merged_df, create a Dash Plotly time series visualization with a stacked bar chart, and the data determined by the following radio button selections. The x-axis will be time as either week, month, quarter, or year selected by a radio button (default is month). The y-axis will be 'launched', 'hit', 'miss', or 'destroyed' as selected by a radio button (default is 'launched'). The stacks in the bar chart will be either 'category' or 'model' as selected by a radio button (default is 'category').\n",
        "\n",
        "#app = dash.Dash(__name__, external_stylesheets=[dbc.themes.SLATE])\n",
        "\n",
        "ts_bar_chart = html.Div([\n",
        "\n",
        "    # title\n",
        "    dbc.Row([html.H2(\"Time Series for Missile and Drone Attacks Against Ukraine\")]),\n",
        "\n",
        "    # first row - radio buttons\n",
        "    dbc.Row([\n",
        "\n",
        "        # time_period\n",
        "        dbc.Col([\n",
        "            dbc.Row(html.Label(\"Time Period:\", style={'textAlign': 'center', 'fontWeight': 'bold', 'margin':3})),\n",
        "            dbc.RadioItems(\n",
        "                id='time-period',\n",
        "                className=\"btn-group\",\n",
        "                inputClassName=\"btn-check\",\n",
        "                labelClassName=\"btn btn-outline-primary\",\n",
        "                labelCheckedClassName=\"active\",\n",
        "                options=[\n",
        "                    {'label': 'Week', 'value': 'W'},\n",
        "                    {'label': 'Month', 'value': 'M'},\n",
        "                    {'label': 'Quarter', 'value': 'Q'},\n",
        "                    {'label': 'Year', 'value': 'Y'}\n",
        "                ],\n",
        "                value='M',  # Default value\n",
        "            ),\n",
        "        ], style={'display': 'block', 'textAlign': 'center', 'padding-top': '5px'}),\n",
        "\n",
        "        # yaxis\n",
        "        dbc.Col([\n",
        "            dbc.Row(html.Label(\"Y-axis:\", style={'textAlign': 'center', 'fontWeight': 'bold', 'margin':3})),\n",
        "            dbc.RadioItems(\n",
        "                id='y-axis-value',\n",
        "                className=\"btn-group\",\n",
        "                inputClassName=\"btn-check\",\n",
        "                labelClassName=\"btn btn-outline-primary\",\n",
        "                labelCheckedClassName=\"active\",\n",
        "                options=[\n",
        "                    {'label': 'Launched', 'value': 'launched'},\n",
        "                    {'label': 'Hit', 'value': 'hit'},\n",
        "                    {'label': 'Miss', 'value': 'miss'},\n",
        "                    {'label': 'Destroyed', 'value': 'destroyed'}\n",
        "                ],\n",
        "                value='launched', # Default value\n",
        "            ),\n",
        "        ], style={'display': 'block', 'textAlign': 'center', 'padding-top': '5px'}),\n",
        "\n",
        "        # stacked_bar_feature\n",
        "        dbc.Col([\n",
        "            dbc.Row(html.Label(\"Stacked Bar:\", style={'textAlign': 'center', 'fontWeight': 'bold', 'margin':3})),\n",
        "            dbc.RadioItems(\n",
        "                id='stacked-bar-feature',\n",
        "                className=\"btn-group\",\n",
        "                inputClassName=\"btn-check\",\n",
        "                labelClassName=\"btn btn-outline-primary\",\n",
        "                labelCheckedClassName=\"active\",\n",
        "                options=[\n",
        "                    {'label': 'Category', 'value': 'category'},\n",
        "                    {'label': 'Model', 'value': 'model'}\n",
        "                ],\n",
        "                value='category', # Default value\n",
        "            ),\n",
        "        ], style={'display': 'block', 'textAlign': 'center', 'padding-top': '5px'}),\n",
        "\n",
        "        # yaxis2\n",
        "        dbc.Col([\n",
        "            dbc.Row(html.Label(\"Second Y-Axis:\", style={'textAlign': 'center', 'fontWeight': 'bold', 'margin':3})),\n",
        "            dbc.Checklist(\n",
        "                id='y-axis2-toggle',\n",
        "                options=[{'label': 'Launched', 'value': 'launched'}],\n",
        "                value=[],\n",
        "                className=\"btn-group\",\n",
        "                inputClassName=\"btn-check\",\n",
        "                labelClassName=\"btn btn-outline-primary\",\n",
        "                labelCheckedClassName=\"active\",\n",
        "            ),\n",
        "        ], style={'display': 'block', 'textAlign': 'center', 'padding-top': '5px'}),\n",
        "\n",
        "        # 'category' multiple-select buttons\n",
        "        dbc.Col([\n",
        "            html.H6(\"Category:\", style={'fontWeight': 'bold', 'display': 'block', 'textAlign': 'center', 'margin':5}), # 'padding-top': '5px'\n",
        "            dbc.Checklist(\n",
        "                id='category-slice',\n",
        "                options=[{'label': category, 'value': category} for category in merged_df['category'].unique()],\n",
        "                value=merged_df[~merged_df['category'].str.lower().str.contains('recon')]['category'].unique().tolist(),  # Default: all categories but 'UAV - Recon' selected\n",
        "                inline=True,  # Arrange options horizontally\n",
        "                className=\"btn-group\",\n",
        "                inputClassName=\"btn-check\",\n",
        "                labelClassName=\"btn btn-outline-secondary\",\n",
        "                labelCheckedClassName=\"active\"\n",
        "            ),\n",
        "        ], style={'padding-top': '5px', 'textAlign': 'center'}),\n",
        "\n",
        "    ], style={'display': 'flex', 'justify-content': 'center'}),\n",
        "\n",
        "    # third row - ts_bar_chart\n",
        "    dbc.Row([dcc.Graph(id='time-series-chart')]),\n",
        "\n",
        "\n",
        "    # fourth row - details dropdown checklists (toggle display off/on)\n",
        "    dbc.Row([\n",
        "        #dbc.Col(type_dropdown),\n",
        "        dbc.Col(range_dropdown),\n",
        "        dbc.Col(speed_dropdown),\n",
        "        dbc.Col(altitude_dropdown),\n",
        "    ], style={'margin-bottom': '30px', 'margin-left': '10px', 'margin-right': '10px'}, justify=\"center\")\n",
        "\n",
        "], style={'margin-top': '5px'})"
      ]
    },
    {
      "cell_type": "markdown",
      "metadata": {
        "id": "d8fn26vneqBt"
      },
      "source": [
        "### DPX @app.callback(), app.layout(), and app.server -- combined"
      ]
    },
    {
      "cell_type": "code",
      "execution_count": 88,
      "metadata": {
        "colab": {
          "base_uri": "https://localhost:8080/",
          "height": 672
        },
        "id": "-Rh1ZyAqL8XG",
        "outputId": "5047dd40-3149-4787-f025-f2bb198dd2ef"
      },
      "outputs": [
        {
          "data": {
            "text/html": [
              "\n",
              "        <iframe\n",
              "            width=\"100%\"\n",
              "            height=\"650\"\n",
              "            src=\"http://127.0.0.1:8000/\"\n",
              "            frameborder=\"0\"\n",
              "            allowfullscreen\n",
              "            \n",
              "        ></iframe>\n",
              "        "
            ],
            "text/plain": [
              "<IPython.lib.display.IFrame at 0x2a5d6f35950>"
            ]
          },
          "metadata": {},
          "output_type": "display_data"
        }
      ],
      "source": [
        "# Define app\n",
        "app = dash.Dash(__name__, external_stylesheets=[dbc.themes.SLATE])\n",
        "\n",
        "#app.config['suppress_callback_exceptions'] = True # allow app.callbacks() generated by other callbacks\n",
        "app.config.suppress_callback_exceptions = True\n",
        "\n",
        "# ---------------------------------------------------------------------------\n",
        "\n",
        "# ts_bar_chart\n",
        "@app.callback(\n",
        "    Output('time-series-chart', 'figure'),\n",
        "    Input('time-period', 'value'),\n",
        "    Input('y-axis-value', 'value'),\n",
        "    Input('stacked-bar-feature', 'value'),\n",
        "    Input('y-axis2-toggle', 'value'),\n",
        "    Input('category-slice', 'value'),\n",
        "    #Input('details-toggle', 'value'),\n",
        "    #Input('type-dropdown', 'value'),\n",
        "    Input('range-dropdown', 'value'),\n",
        "    Input('speed-dropdown', 'value'),\n",
        "    Input('altitude-dropdown', 'value'),\n",
        ")\n",
        "def update_chart(time_period, y_axis_value, stacked_bar_feature, y_axis2, category_slice, selected_range, selected_speed, selected_altitude):\n",
        "    # Create a temp_df from merged_df\n",
        "    ts_bar_df = merged_df.copy()\n",
        "\n",
        "    # If toggled-on details_dropdowns, then apply filters\n",
        "    #if '(show below)' in details_dropdown:\n",
        "\n",
        "    # Filter the data based on model details 'type', 'range', 'altitude', and 'speed'\n",
        "    #if selected_type:\n",
        "    #    ts_bar_df = ts_bar_df[ts_bar_df['type'].isin(selected_type)]\n",
        "    if selected_range:\n",
        "        ts_bar_df = ts_bar_df[ts_bar_df['range'].isin(selected_range)]\n",
        "    if selected_speed:\n",
        "        ts_bar_df = ts_bar_df[ts_bar_df['speed'].isin(selected_speed)]\n",
        "    if selected_altitude:\n",
        "        ts_bar_df = ts_bar_df[ts_bar_df['altitude'].isin(selected_altitude)]\n",
        "\n",
        "    # Add 'time_period' to ts_bar_df (by resampling 'time_end')\n",
        "    ts_bar_df['time_end'] = pd.to_datetime(merged_df['time_end'], format=\"mixed\")\n",
        "    ts_bar_df['time_period'] = ts_bar_df['time_end'].dt.to_period(time_period)\n",
        "    ts_bar_df['time_period'] = ts_bar_df['time_period'].astype(str)\n",
        "\n",
        "    # 1. Generate complete time range\n",
        "    all_periods = pd.period_range(\n",
        "        start=ts_bar_df['time_end'].min(),\n",
        "        end=ts_bar_df['time_end'].max(),\n",
        "        freq=time_period\n",
        "    ).astype(str).tolist()\n",
        "\n",
        "    # Slice data (by category_slice) and groupby/sum (by stacked_bar_feature)\n",
        "    sliced_data = ts_bar_df[ts_bar_df['category'].isin(category_slice)].reset_index()\n",
        "    grouped_data = sliced_data.groupby(['time_period', stacked_bar_feature])[y_axis_value].sum().reset_index()\n",
        "\n",
        "    # 2. Reindex and fill missing values\n",
        "    # Create a MultiIndex from all_periods and unique stacking_category values\n",
        "    all_categories = grouped_data[stacked_bar_feature].unique()\n",
        "    full_index = pd.MultiIndex.from_product([all_periods, all_categories], names=['time_period', stacked_bar_feature])\n",
        "\n",
        "    # Reindex the grouped data\n",
        "    reindexed_data = grouped_data.set_index(['time_period', stacked_bar_feature]).reindex(full_index, fill_value=0).reset_index()\n",
        "\n",
        "    # 3. Create the stacked bar chart\n",
        "    fig = px.bar(\n",
        "        reindexed_data,\n",
        "        x='time_period',\n",
        "        y=y_axis_value,\n",
        "        color=stacked_bar_feature,\n",
        "        title=f\"{y_axis_value.capitalize()} by {stacked_bar_feature.capitalize()} over Time\",\n",
        "        barmode=\"stack\"\n",
        "    )\n",
        "\n",
        "    fig.update_layout(\n",
        "        font_color=\"gray\",\n",
        "        paper_bgcolor='rgba(0,0,0,0)',\n",
        "        plot_bgcolor='rgba(0,0,0,0)',\n",
        "        xaxis_title=None,\n",
        "        legend=dict(\n",
        "            orientation=\"h\",\n",
        "            yanchor=\"bottom\",\n",
        "            y=-0.2,  # Adjust this value to fine-tune the legend's position\n",
        "            xanchor=\"center\",\n",
        "            x=0.5  # Adjust this value to fine-tune the legend's position\n",
        "        )\n",
        "    )\n",
        "\n",
        "    # 4. Create a line chart from the second axis for 'launched' (if y_axis_value not 'launched')\n",
        "    if 'launched' in y_axis2:\n",
        "\n",
        "        launched_data = ts_bar_df.groupby('time_period')['launched'].sum().reset_index()\n",
        "        #yaxis2_range = [0, launched_data['launched'].max()]\n",
        "\n",
        "        fig.add_scatter(\n",
        "            x=launched_data['time_period'],\n",
        "            y=launched_data['launched'],\n",
        "            mode='lines',\n",
        "            name='launched',\n",
        "            yaxis='y2',\n",
        "            line=dict(color='red')\n",
        "        )\n",
        "\n",
        "        fig.update_layout(\n",
        "            #yaxis=dict(\n",
        "            #    range=yaxis2_range\n",
        "            #),\n",
        "            yaxis2=dict(\n",
        "                title='launched',\n",
        "                title_font=dict(color='red'),\n",
        "                overlaying='y',\n",
        "                side='right',\n",
        "                matches='y',\n",
        "                #range=yaxis2_range,\n",
        "                showgrid=False,\n",
        "                #gridcolor='gray',\n",
        "                #griddash='dot',\n",
        "                tickfont=dict(color='red'),\n",
        "            ),\n",
        "        )\n",
        "\n",
        "    # 5. Adjust legend\n",
        "\n",
        "    # Remove if time_period is 'W'\n",
        "    if time_period == 'W':\n",
        "        fig.update_layout(\n",
        "            showlegend=False\n",
        "        )\n",
        "\n",
        "    # Space legend further down on y-axis if Stacked Bar Feature is 'model'\n",
        "    if stacked_bar_feature == 'model':\n",
        "        fig.update_layout(\n",
        "            legend=dict(\n",
        "                y=-0.4\n",
        "            )\n",
        "        )\n",
        "\n",
        "    # 6. Update details-dropdown\n",
        "\n",
        "\n",
        "    return fig\n",
        "\n",
        "\n",
        "# ---------------------------------------------------------------------------\n",
        "\n",
        "# details_table\n",
        "@app.callback(\n",
        "    Output('details-table', 'sort_by'),\n",
        "    Input('reset-sorting-btn', 'n_clicks'),\n",
        "    #State('details-table', 'sort_by') # the 'Reset Sorting' button doesn't work with State active\n",
        ")\n",
        "def reset_sorting(n_clicks):\n",
        "    if n_clicks:\n",
        "        return []  # Reset sort_by to an empty list to clear sorting\n",
        "    return dash.no_update  # Don't update if button hasn't been clicked\n",
        "\n",
        "\n",
        "# ---------------------------------------------------------------------------\n",
        "\n",
        "ru_ua_title = \"Russian Missile and Drone Attacks against Ukraine\"\n",
        "\n",
        "# app.layout\n",
        "app.layout = html.Div([\n",
        "    html.H1(ru_ua_title),\n",
        "    dbc.Row([\n",
        "        dbc.Col([intro_text], width=2),\n",
        "        dbc.Col([\n",
        "            dbc.Row([metrics_bar4], className='pt-0 pb-6 pl-2 pr-2'),\n",
        "            dbc.Row([attacks_table], className='pt-6'),\n",
        "            dbc.Row([attacks_table_minor], className='pt-6 pr-10')\n",
        "            ], width=6, style={'margin-top':15}),\n",
        "        dbc.Col([\n",
        "            dbc.Row([attack_size_avg], className='pt-6 pb-2 pl-2 pr-2'),\n",
        "            dbc.Row([attack_size_bar], className='pb-3'),\n",
        "            ], width=4, style={'margin-top':15}),\n",
        "    ], style={'background-color': 'rgba(211, 211, 211, 0.05)'}),\n",
        "    dbc.Row([\n",
        "        ts_bar_chart\n",
        "    ], style={'margin-top': 4}),\n",
        "    dbc.Row([\n",
        "        details_table\n",
        "    ], style={'background-color': 'rgba(211, 211, 211, 0.05)'})\n",
        "\n",
        "])\n",
        "\n",
        "if __name__ == '__main__':\n",
        "    app.run_server(debug=True, port=8000)"
      ]
    },
    {
      "cell_type": "code",
      "execution_count": 89,
      "metadata": {
        "colab": {
          "base_uri": "https://localhost:8080/"
        },
        "id": "Y4Q91QLAiWk4",
        "outputId": "438049de-4a55-4fd3-db19-9e7d76bebfb0"
      },
      "outputs": [],
      "source": [
        "# Install shot-scraper and headless browser (for screenshot)\n",
        "\n",
        "!pip install shot-scraper --quiet\n",
        "!shot-scraper install"
      ]
    },
    {
      "cell_type": "code",
      "execution_count": 90,
      "metadata": {
        "colab": {
          "base_uri": "https://localhost:8080/"
        },
        "id": "ELK65KztiWk4",
        "outputId": "cc6c5c8a-ee93-4206-986e-97f7d10b0e41"
      },
      "outputs": [
        {
          "name": "stderr",
          "output_type": "stream",
          "text": [
            "Screenshot of 'http://127.0.0.1:8000/' written to 'ua8_ru_weapons.png'\n"
          ]
        }
      ],
      "source": [
        "# Capture/save screenshot via shot-scraper (of Dash app at served host and port)\n",
        "!shot-scraper http://127.0.0.1:8000/ --wait 3000 -o ua8_ru_weapons.png"
      ]
    },
    {
      "cell_type": "code",
      "execution_count": 91,
      "metadata": {
        "id": "gkqVLw58iWk5"
      },
      "outputs": [],
      "source": [
        "# save CSV copy of merged_df with date filters: 09/28/2022 to 12/29/2024\n",
        "merged_df[merged_df['time_end']<pd.to_datetime(\"2025-01-01\")].to_csv('merged_df.csv')"
      ]
    }
  ],
  "metadata": {
    "colab": {
      "provenance": []
    },
    "kernelspec": {
      "display_name": ".venv",
      "language": "python",
      "name": "python3"
    },
    "language_info": {
      "codemirror_mode": {
        "name": "ipython",
        "version": 3
      },
      "file_extension": ".py",
      "mimetype": "text/x-python",
      "name": "python",
      "nbconvert_exporter": "python",
      "pygments_lexer": "ipython3",
      "version": "3.13.0"
    }
  },
  "nbformat": 4,
  "nbformat_minor": 0
}
